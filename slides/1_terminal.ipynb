{
 "cells": [
  {
   "cell_type": "markdown",
   "metadata": {
    "slideshow": {
     "slide_type": "slide"
    }
   },
   "source": [
    "# Příkazová řádka\n",
    "- terminal\n",
    "- console\n",
    "- command line"
   ]
  },
  {
   "cell_type": "markdown",
   "metadata": {
    "slideshow": {
     "slide_type": "subslide"
    }
   },
   "source": [
    "### Jak otevřít?\n",
    "\n",
    "- Windows (české): Start → napsat na klávesnici „cmd“ → Příkazový řádek\n",
    "- Windows (anglické): Start → napsat na klávesnici „cmd“ → Command Prompt\n",
    "- macOS (anglický): Applications → Utilities → Terminal\n",
    "- Linux (KDE): Hlavní Menu → hledat Konsole\n",
    "- Linux (GNOME): Super → hledat Terminál"
   ]
  },
  {
   "cell_type": "markdown",
   "metadata": {
    "slideshow": {
     "slide_type": "subslide"
    }
   },
   "source": [
    "### První příkazy\n",
    "\n",
    "- `whoami` - vypíše jméno přihlášeného uživatele\n",
    "- `cd` `(pwd)` - vypíše aktuální poziciv souborovém systému\n",
    "- `dir` `(ls)` - vypíše obsah aktuálního adresáře\n",
    "- `cd Desktop` - přejde do adresáře Desktop\n",
    "- `mkdir` - vytvoří novou složku\n",
    "- `rm` - smaže zadané soubory/adresáře"
   ]
  }
 ],
 "metadata": {
  "celltoolbar": "Slideshow",
  "kernelspec": {
   "display_name": "Python 3",
   "language": "python",
   "name": "python3"
  },
  "language_info": {
   "codemirror_mode": {
    "name": "ipython",
    "version": 3
   },
   "file_extension": ".py",
   "mimetype": "text/x-python",
   "name": "python",
   "nbconvert_exporter": "python",
   "pygments_lexer": "ipython3",
   "version": "3.7.3"
  }
 },
 "nbformat": 4,
 "nbformat_minor": 2
}
