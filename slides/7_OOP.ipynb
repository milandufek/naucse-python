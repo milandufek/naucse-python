{
 "cells": [
  {
   "cell_type": "markdown",
   "metadata": {
    "slideshow": {
     "slide_type": "slide"
    }
   },
   "source": [
    "## OOP"
   ]
  },
  {
   "cell_type": "markdown",
   "metadata": {
    "slideshow": {
     "slide_type": "slide"
    }
   },
   "source": [
    "## Objektově orientované programování\n",
    "- Odlišné od procedurálního\n",
    "- Výkonný kód přidružen k datům\n",
    "- Vychází z objektů reálného světa"
   ]
  },
  {
   "cell_type": "markdown",
   "metadata": {
    "slideshow": {
     "slide_type": "subslide"
    }
   },
   "source": [
    "## Abstraction (abstrakce)\n",
    "## Inheritance (dědičnost)\n",
    "## Polymorphism (polymorfismus)\n",
    "## Encapsulation (zapouzdření)"
   ]
  },
  {
   "cell_type": "markdown",
   "metadata": {
    "slideshow": {
     "slide_type": "slide"
    }
   },
   "source": [
    "## Abstraction (abstrakce)\n",
    "\n",
    "- Každý objekt pracuje jako černá skříňka\n",
    "- Není důležité znát způsob, kterým vnitřně pracuje\n",
    "- Důležitost správného pojmenování a kvalitní dokumentace\n",
    "- Dekompozice problému na menší logické celky"
   ]
  },
  {
   "cell_type": "markdown",
   "metadata": {
    "slideshow": {
     "slide_type": "fragment"
    }
   },
   "source": [
    "![function](img/phone.png)"
   ]
  },
  {
   "cell_type": "code",
   "execution_count": 1,
   "metadata": {
    "slideshow": {
     "slide_type": "subslide"
    }
   },
   "outputs": [],
   "source": [
    "class Cat:\n",
    "\n",
    "    def meow(self):\n",
    "        \"\"\"Prints: Meow! to standard output.\"\"\"\n",
    "\n",
    "    def is_alive(self):\n",
    "        \"\"\"Returns False, if number_of_lifes is 0, otherwise returns True.\"\"\"\n",
    "\n",
    "    def lose_life(self):\n",
    "        \"\"\"Subtracts one life if cat has more then 0 lifes.\"\"\"\n",
    "\n",
    "    def eat(self, food):\n",
    "        \"\"\"Adds one life if not already max lifes and food is fish.\"\"\"\n"
   ]
  },
  {
   "cell_type": "markdown",
   "metadata": {
    "slideshow": {
     "slide_type": "slide"
    }
   },
   "source": [
    "## Encapsulation (zapouzdření)\n",
    "\n",
    "- Spočívá ve sdružování dat s metodami, které pracují na daným datech.\n",
    "- Ukrývání hodnot (stavů) objektu uvnitř třídy, zamezuje přístupu k atributům\n",
    "- Pro modifikaci nebo zjištění stavu objektu se používají metody\n"
   ]
  },
  {
   "cell_type": "markdown",
   "metadata": {
    "slideshow": {
     "slide_type": "fragment"
    }
   },
   "source": [
    "![function](img/cat.png)"
   ]
  },
  {
   "cell_type": "markdown",
   "metadata": {
    "slideshow": {
     "slide_type": "slide"
    }
   },
   "source": [
    "## Inheritance (dědičnost)\n",
    "\n",
    "- Sdružení společného chování a vlastností do nadřazené třídy\n",
    "- Nadřazená třída je vždycky obecná a podtřídy konkrétní"
   ]
  },
  {
   "cell_type": "markdown",
   "metadata": {
    "slideshow": {
     "slide_type": "fragment"
    }
   },
   "source": [
    "![function](img/person.png)"
   ]
  },
  {
   "cell_type": "code",
   "execution_count": 3,
   "metadata": {
    "slideshow": {
     "slide_type": "subslide"
    }
   },
   "outputs": [],
   "source": [
    "class Kitten:\n",
    "    def __init__(self, name):\n",
    "        self.name = name\n",
    "\n",
    "    def meow(self):\n",
    "        print(\"{}: Meow!\".format(self.name))\n",
    "\n",
    "    def eat(self, food):\n",
    "        print(\"{}: I like {}!\".format(self.name, food))\n",
    "\n",
    "\n",
    "class Puppy:\n",
    "    def __init__(self, name):\n",
    "        self.name = name\n",
    "\n",
    "    def woof(self):\n",
    "        print(\"{}: Woof!\".format(self.name))\n",
    "\n",
    "    def eat(self, food):\n",
    "        print(\"{}: I like {}!\".format(self.name, food))"
   ]
  },
  {
   "cell_type": "code",
   "execution_count": 4,
   "metadata": {
    "slideshow": {
     "slide_type": "subslide"
    }
   },
   "outputs": [
    {
     "name": "stdout",
     "output_type": "stream",
     "text": [
      "Micka: Meow!\n",
      "Azorek: Woof!\n",
      "Micka: I like mouse!\n",
      "Azorek: I like bone!\n"
     ]
    }
   ],
   "source": [
    "class Animal:\n",
    "    def __init__(self, name):\n",
    "        self.name = name\n",
    "\n",
    "    def eat(self, food):\n",
    "        print(\"{}: I like {}!\".format(self.name, food))\n",
    "\n",
    "\n",
    "class Kitten(Animal):\n",
    "    def meow(self):\n",
    "        print(\"{}: Meow!\".format(self.name))\n",
    "\n",
    "\n",
    "class Puppy(Animal):\n",
    "    def woof(self):\n",
    "        print(\"{}: Woof!\".format(self.name))\n",
    "\n",
    "\n",
    "micka = Kitten('Micka')\n",
    "azorek = Puppy('Azorek')\n",
    "micka.meow()\n",
    "azorek.woof()\n",
    "micka.eat('mouse')\n",
    "azorek.eat('bone')"
   ]
  },
  {
   "cell_type": "markdown",
   "metadata": {
    "slideshow": {
     "slide_type": "subslide"
    }
   },
   "source": [
    "## Metoda super() pro přepisování metod"
   ]
  },
  {
   "cell_type": "markdown",
   "metadata": {
    "slideshow": {
     "slide_type": "subslide"
    }
   },
   "source": [
    "- Když se ti nebude líbit chování některé metody v nadtřídě, stačí dát metodu stejného jména do podtřídy:"
   ]
  },
  {
   "cell_type": "code",
   "execution_count": 5,
   "metadata": {
    "slideshow": {
     "slide_type": "subslide"
    }
   },
   "outputs": [
    {
     "name": "stdout",
     "output_type": "stream",
     "text": [
      "Micka: I really do not like granule!\n"
     ]
    }
   ],
   "source": [
    "class Kitten(Animal):\n",
    "    def eat(self, food):\n",
    "        print(\"{}: I really do not like {}!\".format(self.name, food))\n",
    "\n",
    "\n",
    "micka = Kitten('Micka')\n",
    "micka.eat('granule')"
   ]
  },
  {
   "cell_type": "code",
   "execution_count": 6,
   "metadata": {
    "scrolled": true,
    "slideshow": {
     "slide_type": "fragment"
    }
   },
   "outputs": [
    {
     "name": "stdout",
     "output_type": "stream",
     "text": [
      "(Micka looks at granule.)\n",
      "Micka: I like granule!\n"
     ]
    }
   ],
   "source": [
    "class Kitten(Animal):\n",
    "    def eat(self, food):\n",
    "        print(\"({} looks at {}.)\".format(self.name, food))\n",
    "        super().eat(food)\n",
    "\n",
    "\n",
    "micka = Kitten('Micka')\n",
    "micka.eat('granule')"
   ]
  },
  {
   "cell_type": "code",
   "execution_count": 7,
   "metadata": {
    "slideshow": {
     "slide_type": "fragment"
    }
   },
   "outputs": [
    {
     "name": "stdout",
     "output_type": "stream",
     "text": [
      "Ssstanissslav: I like mouse!\n"
     ]
    }
   ],
   "source": [
    "class Snek(Animal):\n",
    "    def __init__(self, name):\n",
    "        name = name.replace('s', 'sss')\n",
    "        name = name.replace('S', 'Sss')\n",
    "        super().__init__(name)\n",
    "\n",
    "\n",
    "standa = Snek('Stanislav')\n",
    "standa.eat('mouse')"
   ]
  },
  {
   "cell_type": "markdown",
   "metadata": {
    "slideshow": {
     "slide_type": "slide"
    }
   },
   "source": [
    "## Polymorphism (polymorfismus)\n",
    "\n",
    "- Rozšíření dědičnosti - několik objektů poskytuje stejnou metodu, ale jejich konkrétní chování se liší podle implementace"
   ]
  },
  {
   "cell_type": "markdown",
   "metadata": {
    "slideshow": {
     "slide_type": "fragment"
    }
   },
   "source": [
    "![function](img/calc.png)"
   ]
  },
  {
   "cell_type": "code",
   "execution_count": 8,
   "metadata": {
    "slideshow": {
     "slide_type": "subslide"
    }
   },
   "outputs": [
    {
     "name": "stdout",
     "output_type": "stream",
     "text": [
      "Micka: I like meat!\n",
      "Azorek: I like meat!\n"
     ]
    }
   ],
   "source": [
    "class Animal:\n",
    "    def __init__(self, name):\n",
    "        self.name = name\n",
    "\n",
    "    def eat(self, food):\n",
    "        print(\"{}: I like {}!\".format(self.name, food))\n",
    "\n",
    "\n",
    "class Kitten(Animal):\n",
    "    def meow(self):\n",
    "        print(\"{}: Meow!\".format(self.name))\n",
    "\n",
    "\n",
    "class Puppy(Animal):\n",
    "    def woof(self):\n",
    "        print(\"{}: Woof!\".format(self.name))\n",
    "\n",
    "animals = [Kitten('Micka'), Puppy('Azorek')]\n",
    "\n",
    "for animal in animals:\n",
    "    animal.eat('meat')"
   ]
  },
  {
   "cell_type": "code",
   "execution_count": 9,
   "metadata": {
    "slideshow": {
     "slide_type": "subslide"
    }
   },
   "outputs": [
    {
     "name": "stdout",
     "output_type": "stream",
     "text": [
      "Micka: Meow!\n",
      "Micka: I like meat!\n",
      "Azorek: Woof!\n",
      "Azorek: I like meat!\n"
     ]
    }
   ],
   "source": [
    "class Animal:\n",
    "    def __init__(self, name):\n",
    "        self.name = name\n",
    "\n",
    "    def eat(self, food):\n",
    "        print(\"{}: I like {}!\".format(self.name, food))\n",
    "\n",
    "\n",
    "class Kitten(Animal):\n",
    "    def make_sound(self):\n",
    "        print(\"{}: Meow!\".format(self.name))\n",
    "\n",
    "\n",
    "class Puppy(Animal):\n",
    "    def make_sound(self):\n",
    "        print(\"{}: Woof!\".format(self.name))\n",
    "\n",
    "\n",
    "animals = [Kitten('Micka'), Puppy('Azorek')]\n",
    "\n",
    "for animal in animals:\n",
    "    animal.make_sound()\n",
    "    animal.eat('meat')"
   ]
  }
 ],
 "metadata": {
  "celltoolbar": "Slideshow",
  "kernelspec": {
   "display_name": "Python 3",
   "language": "python",
   "name": "python3"
  },
  "language_info": {
   "codemirror_mode": {
    "name": "ipython",
    "version": 3
   },
   "file_extension": ".py",
   "mimetype": "text/x-python",
   "name": "python",
   "nbconvert_exporter": "python",
   "pygments_lexer": "ipython3",
   "version": "3.7.3"
  },
  "rise": {
   "scroll": true
  }
 },
 "nbformat": 4,
 "nbformat_minor": 2
}
