{
 "cells": [
  {
   "cell_type": "markdown",
   "metadata": {
    "slideshow": {
     "slide_type": "slide"
    }
   },
   "source": [
    "## Cykly a řetězce"
   ]
  },
  {
   "cell_type": "markdown",
   "metadata": {
    "slideshow": {
     "slide_type": "subslide"
    }
   },
   "source": [
    "## Želví kreslení\n"
   ]
  },
  {
   "cell_type": "markdown",
   "metadata": {
    "slideshow": {
     "slide_type": "fragment"
    }
   },
   "source": [
    "- otevři terminál\n",
    "- zapni pythonní konzoli\n",
    "- napiš:\n",
    "\n",
    "```python\n",
    "from turtle import forward\n",
    "\n",
    "forward(50)```\n"
   ]
  },
  {
   "cell_type": "markdown",
   "metadata": {
    "slideshow": {
     "slide_type": "fragment"
    }
   },
   "source": [
    "```python\n",
    "from turtle import shape\n",
    "\n",
    "shape('turtle')\n",
    "```\n"
   ]
  },
  {
   "cell_type": "markdown",
   "metadata": {
    "slideshow": {
     "slide_type": "subslide"
    }
   },
   "source": [
    "```python\n",
    "from turtle import left, right\n",
    "\n",
    "forward(50)\n",
    "left(60)\n",
    "forward(50)\n",
    "right(60)\n",
    "forward(50)\n",
    "```"
   ]
  },
  {
   "cell_type": "markdown",
   "metadata": {
    "slideshow": {
     "slide_type": "subslide"
    }
   },
   "source": [
    "### Úkol \n",
    "- Vytvoř si v editoru nový soubor. \n",
    "- Ulož ho do adresáře pro dnešní lekci pod jménem zelva.py.\n",
    "- Nepojmenovávej ho turtle.py.\n",
    "- Do souboru napiš příkazy na nakreslení čtverce a na konec zavolej funkci `exitonclick()`."
   ]
  },
  {
   "cell_type": "markdown",
   "metadata": {
    "slideshow": {
     "slide_type": "fragment"
    }
   },
   "source": [
    "- Nakresli obdélník."
   ]
  },
  {
   "cell_type": "markdown",
   "metadata": {
    "slideshow": {
     "slide_type": "fragment"
    }
   },
   "source": [
    "- Nakresli tři čtverce, každý otočený o 20°."
   ]
  },
  {
   "cell_type": "markdown",
   "metadata": {
    "slideshow": {
     "slide_type": "slide"
    }
   },
   "source": [
    "## For"
   ]
  },
  {
   "cell_type": "code",
   "execution_count": 7,
   "metadata": {
    "slideshow": {
     "slide_type": "subslide"
    }
   },
   "outputs": [
    {
     "name": "stdout",
     "output_type": "stream",
     "text": [
      "0\n",
      "1\n",
      "2\n",
      "3\n",
      "4\n"
     ]
    }
   ],
   "source": [
    "for cislo in range(5):\n",
    "    print(cislo)"
   ]
  },
  {
   "cell_type": "code",
   "execution_count": 6,
   "metadata": {
    "slideshow": {
     "slide_type": "subslide"
    }
   },
   "outputs": [
    {
     "name": "stdout",
     "output_type": "stream",
     "text": [
      "Ahoj!\n",
      "Hello!\n",
      "Hola!\n",
      "Hei!\n",
      "SYN!\n"
     ]
    }
   ],
   "source": [
    "for pozdrav in 'Ahoj', 'Hello', 'Hola', 'Hei', 'SYN':\n",
    "    print(pozdrav + '!')"
   ]
  },
  {
   "cell_type": "code",
   "execution_count": 3,
   "metadata": {
    "slideshow": {
     "slide_type": "subslide"
    }
   },
   "outputs": [
    {
     "name": "stdout",
     "output_type": "stream",
     "text": [
      "83\n"
     ]
    }
   ],
   "source": [
    "soucet = 0\n",
    "\n",
    "for cislo in 8, 45, 9, 21:\n",
    "    soucet = soucet + cislo\n",
    "\n",
    "print(soucet)"
   ]
  },
  {
   "cell_type": "markdown",
   "metadata": {
    "slideshow": {
     "slide_type": "subslide"
    }
   },
   "source": [
    "### Úkol \n",
    "\n",
    "- Nakresli čtverec pomocí for cyklu.\n",
    "- V programu použij forward jen dvakrát: jednou v importu, jednou jako volání."
   ]
  },
  {
   "cell_type": "markdown",
   "metadata": {
    "slideshow": {
     "slide_type": "subslide"
    }
   },
   "source": [
    "### Úkol - přerušovaná čára\n",
    "\n",
    "- Funkce `penup` a `pendown` říkají želvě, aby přestala nebo začala kreslit.\n",
    "- Nakreslí pomocí nich přerušovanou čáru."
   ]
  },
  {
   "cell_type": "markdown",
   "metadata": {
    "slideshow": {
     "slide_type": "fragment"
    }
   },
   "source": [
    "- Nakresli přerušovanou čáru tak, aby jednotlivé čárky byly postupně větší a větší."
   ]
  },
  {
   "cell_type": "markdown",
   "metadata": {
    "slideshow": {
     "slide_type": "subslide"
    }
   },
   "source": [
    "### Úkol - zanořování cyklů\n",
    "\n",
    "- Nakonec nakresli 3 čtverce, každý otočený o 20°. \n",
    "- Opakuj pomocí příkazu for, ne kopírováním kódu."
   ]
  },
  {
   "cell_type": "markdown",
   "metadata": {
    "slideshow": {
     "slide_type": "slide"
    }
   },
   "source": [
    "## while"
   ]
  },
  {
   "cell_type": "markdown",
   "metadata": {
    "slideshow": {
     "slide_type": "subslide"
    }
   },
   "source": [
    "### Rozdíl mezi for a while."
   ]
  },
  {
   "cell_type": "markdown",
   "metadata": {
    "slideshow": {
     "slide_type": "fragment"
    }
   },
   "source": [
    "## for\n",
    "\n",
    "- předem známe počet opakování"
   ]
  },
  {
   "cell_type": "markdown",
   "metadata": {
    "slideshow": {
     "slide_type": "fragment"
    }
   },
   "source": [
    "## while\n",
    "\n",
    "- Cyklus závisí na nějaké podmínce.\n",
    "- Tělo cyklu se opakuje, DOKUD je podmínka splněna."
   ]
  },
  {
   "cell_type": "code",
   "execution_count": 9,
   "metadata": {
    "slideshow": {
     "slide_type": "subslide"
    }
   },
   "outputs": [
    {
     "name": "stdout",
     "output_type": "stream",
     "text": [
      "Řekni Ááá! ne\n",
      "Špatně, zkus to znovu\n",
      "Řekni Ááá! Ááá§)\n",
      "Špatně, zkus to znovu\n",
      "Řekni Ááá! Ááá\n"
     ]
    }
   ],
   "source": [
    "odpoved = input('Řekni Ááá! ')\n",
    "\n",
    "while odpoved != 'Ááá':\n",
    "    print('Špatně, zkus to znovu')\n",
    "    odpoved = input('Řekni Ááá! ')"
   ]
  },
  {
   "cell_type": "code",
   "execution_count": null,
   "metadata": {
    "slideshow": {
     "slide_type": "subslide"
    }
   },
   "outputs": [],
   "source": [
    "from random import randrange\n",
    "\n",
    "while True:\n",
    "    print('Číslo je', randrange(10000))\n",
    "    print('(Počkej, než se počítač unaví...)')"
   ]
  },
  {
   "cell_type": "markdown",
   "metadata": {
    "slideshow": {
     "slide_type": "subslide"
    }
   },
   "source": [
    "## break\n",
    "\n",
    "- přeruší cyklus a pokračuje v programu o úroveň výš"
   ]
  },
  {
   "cell_type": "code",
   "execution_count": 8,
   "metadata": {
    "slideshow": {
     "slide_type": "fragment"
    }
   },
   "outputs": [
    {
     "name": "stdout",
     "output_type": "stream",
     "text": [
      "Řekni Ááá! ne\n",
      "Špatně, zkus to znovu\n",
      "Řekni Ááá! Ááá\n",
      "Bééé\n",
      "Hotovo, ani to nebolelo.\n"
     ]
    }
   ],
   "source": [
    "while True:\n",
    "    odpoved = input('Řekni Ááá! ')\n",
    "    if odpoved == 'Ááá':\n",
    "        print('Bééé')\n",
    "        break\n",
    "    print('Špatně, zkus to znovu')\n",
    "\n",
    "print('Hotovo, ani to nebolelo.')"
   ]
  },
  {
   "cell_type": "markdown",
   "metadata": {
    "slideshow": {
     "slide_type": "subslide"
    }
   },
   "source": [
    "### continue"
   ]
  },
  {
   "cell_type": "code",
   "execution_count": 11,
   "metadata": {
    "slideshow": {
     "slide_type": "fragment"
    }
   },
   "outputs": [
    {
     "name": "stdout",
     "output_type": "stream",
     "text": [
      "0\n",
      "1\n",
      "2\n",
      "5\n",
      "6\n",
      "7\n",
      "8\n",
      "9\n"
     ]
    }
   ],
   "source": [
    "for i in range(10):\n",
    "    if i > 2 and i < 5:\n",
    "        continue\n",
    "    print(i)"
   ]
  },
  {
   "cell_type": "markdown",
   "metadata": {
    "slideshow": {
     "slide_type": "slide"
    }
   },
   "source": [
    "## Řetězce"
   ]
  },
  {
   "cell_type": "code",
   "execution_count": null,
   "metadata": {
    "slideshow": {
     "slide_type": "fragment"
    }
   },
   "outputs": [],
   "source": [
    "'tohle je řetězec'\n",
    "\"tohle taky\""
   ]
  },
  {
   "cell_type": "code",
   "execution_count": 14,
   "metadata": {
    "slideshow": {
     "slide_type": "subslide"
    }
   },
   "outputs": [
    {
     "name": "stdout",
     "output_type": "stream",
     "text": [
      "Haló haló!\n",
      "Co se stalo?\n",
      "Prase kozu potrkalo!\n"
     ]
    }
   ],
   "source": [
    "basen = '''Haló haló!\n",
    "Co se stalo?\n",
    "Prase kozu potrkalo!'''\n",
    "print(basen)"
   ]
  },
  {
   "cell_type": "code",
   "execution_count": 16,
   "metadata": {
    "slideshow": {
     "slide_type": "subslide"
    }
   },
   "outputs": [
    {
     "name": "stdout",
     "output_type": "stream",
     "text": [
      "ab\n",
      "óóóóóóóóóóóóóóóóóóóóóóóóóóóóóóóóóóóóóóóóóóóóóóóóóóóóóóóóóóóóóóóóóóóóóóóóóóóóóóóóóóóóóóóóóóóóóóóóóóóó\n"
     ]
    }
   ],
   "source": [
    "spojeny_retezec = 'a' + 'b'\n",
    "dlouhy_retezec = 'ó' * 100\n",
    "print(spojeny_retezec)\n",
    "print(dlouhy_retezec)"
   ]
  },
  {
   "cell_type": "code",
   "execution_count": 17,
   "metadata": {
    "slideshow": {
     "slide_type": "subslide"
    }
   },
   "outputs": [
    {
     "name": "stdout",
     "output_type": "stream",
     "text": [
      "á\n"
     ]
    }
   ],
   "source": [
    "pate_pismeno = 'čokoláda'[5]\n",
    "\n",
    "print(pate_pismeno)"
   ]
  },
  {
   "cell_type": "markdown",
   "metadata": {
    "slideshow": {
     "slide_type": "subslide"
    }
   },
   "source": [
    "   [0] [1] [2] [3] [4] [5] [6] [7]\n",
    "\n",
    "  ╭───┬───┬───┬───┬───┬───┬───┬───╮\n",
    "  │ Č │ o │ k │ o │ l │ á │ d │ a │\n",
    "  ╰───┴───┴───┴───┴───┴───┴───┴───╯"
   ]
  },
  {
   "cell_type": "code",
   "execution_count": null,
   "metadata": {
    "slideshow": {
     "slide_type": "subslide"
    }
   },
   "outputs": [],
   "source": [
    "   [0] [1] [2] [3] [4] [5] [6] [7]\n",
    "   [-8][-7][-6][-5][-4][-3][-2][-1]\n",
    "  ╭───┬───┬───┬───┬───┬───┬───┬───╮\n",
    "  │ Č │ o │ k │ o │ l │ á │ d │ a │\n",
    "  ╰───┴───┴───┴───┴───┴───┴───┴───╯"
   ]
  },
  {
   "cell_type": "code",
   "execution_count": null,
   "metadata": {
    "slideshow": {
     "slide_type": "subslide"
    }
   },
   "outputs": [],
   "source": [
    "- řetězec je objekt\n",
    "- má k dispozici tzv. metody"
   ]
  },
  {
   "cell_type": "code",
   "execution_count": 18,
   "metadata": {
    "slideshow": {
     "slide_type": "fragment"
    }
   },
   "outputs": [
    {
     "name": "stdout",
     "output_type": "stream",
     "text": [
      "AHOJ\n",
      "ahoj\n",
      "Ahoj\n"
     ]
    }
   ],
   "source": [
    "retezec = 'Ahoj'\n",
    "print(retezec.upper())\n",
    "print(retezec.lower())\n",
    "print(retezec)"
   ]
  },
  {
   "cell_type": "markdown",
   "metadata": {
    "slideshow": {
     "slide_type": "subslide"
    }
   },
   "source": [
    "### Úkol\n",
    "\n",
    "- Napiš program, který se zeptá na jméno, pak na příjmení.\n",
    "- Pak vypíše iniciály – první písmena zadaných jmen."
   ]
  },
  {
   "cell_type": "markdown",
   "metadata": {
    "slideshow": {
     "slide_type": "subslide"
    }
   },
   "source": [
    "### Formátování"
   ]
  },
  {
   "cell_type": "code",
   "execution_count": 19,
   "metadata": {
    "slideshow": {
     "slide_type": "fragment"
    }
   },
   "outputs": [
    {
     "name": "stdout",
     "output_type": "stream",
     "text": [
      "3×4 je 12\n"
     ]
    }
   ],
   "source": [
    "vypis = '{}×{} je {}'.format(3, 4, 3 * 4)\n",
    "print(vypis)"
   ]
  },
  {
   "cell_type": "code",
   "execution_count": 20,
   "metadata": {
    "slideshow": {
     "slide_type": "fragment"
    }
   },
   "outputs": [
    {
     "name": "stdout",
     "output_type": "stream",
     "text": [
      "Ahoj Elvíro! Výsledek je 7.\n"
     ]
    }
   ],
   "source": [
    "vypis = 'Ahoj {jmeno}! Výsledek je {cislo}.'.format(cislo=7, jmeno='Elvíro')\n",
    "print(vypis)"
   ]
  },
  {
   "cell_type": "markdown",
   "metadata": {
    "slideshow": {
     "slide_type": "subslide"
    }
   },
   "source": [
    "### Sekání řetězců"
   ]
  },
  {
   "cell_type": "code",
   "execution_count": 21,
   "metadata": {
    "slideshow": {
     "slide_type": "fragment"
    }
   },
   "outputs": [
    {
     "name": "stdout",
     "output_type": "stream",
     "text": [
      "áda\n"
     ]
    }
   ],
   "source": [
    "retezec = 'čokoláda'\n",
    "kousek = retezec[5:]\n",
    "print(kousek)"
   ]
  },
  {
   "cell_type": "code",
   "execution_count": 22,
   "metadata": {
    "slideshow": {
     "slide_type": "subslide"
    }
   },
   "outputs": [
    {
     "name": "stdout",
     "output_type": "stream",
     "text": [
      "čoko\n",
      "kol\n",
      "láda\n"
     ]
    }
   ],
   "source": [
    "retezec = 'čokoláda'\n",
    "print(retezec[:4])\n",
    "print(retezec[2:5])\n",
    "print(retezec[-4:])"
   ]
  },
  {
   "cell_type": "markdown",
   "metadata": {
    "slideshow": {
     "slide_type": "subslide"
    }
   },
   "source": [
    "### Úkol\n",
    "\n",
    "- Zkus napsat program, který vymění znak na dané pozici řetězce za jiný. \n",
    "- Od uživatele vyžádá řetězec, pozici, na které se má provést výměna a znak, který se má na pozici zadat. \n",
    "- Pozor na to, že řetězce v Pythonu nelze měnit. Musíš vytvořit nový řetězec poskládaný z částí toho starého."
   ]
  }
 ],
 "metadata": {
  "celltoolbar": "Slideshow",
  "kernelspec": {
   "display_name": "Python 3",
   "language": "python",
   "name": "python3"
  },
  "language_info": {
   "codemirror_mode": {
    "name": "ipython",
    "version": 3
   },
   "file_extension": ".py",
   "mimetype": "text/x-python",
   "name": "python",
   "nbconvert_exporter": "python",
   "pygments_lexer": "ipython3",
   "version": "3.7.3"
  },
  "rise": {
   "scroll": true
  }
 },
 "nbformat": 4,
 "nbformat_minor": 2
}
