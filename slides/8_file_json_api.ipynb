{
 "cells": [
  {
   "cell_type": "markdown",
   "metadata": {
    "slideshow": {
     "slide_type": "slide"
    }
   },
   "source": [
    "## SOUBORY, JSON, API"
   ]
  },
  {
   "cell_type": "markdown",
   "metadata": {
    "slideshow": {
     "slide_type": "slide"
    }
   },
   "source": [
    "## SOUBORY"
   ]
  },
  {
   "cell_type": "markdown",
   "metadata": {
    "slideshow": {
     "slide_type": "fragment"
    }
   },
   "source": [
    "- vytvoř soubor `poem.py`\n",
    "- do něj napiš krátkou básničku"
   ]
  },
  {
   "cell_type": "code",
   "execution_count": 2,
   "metadata": {
    "slideshow": {
     "slide_type": "fragment"
    }
   },
   "outputs": [
    {
     "name": "stdout",
     "output_type": "stream",
     "text": [
      "basnicka\n",
      "druhy radek\n",
      "\n"
     ]
    }
   ],
   "source": [
    "file_ = open('poem.txt', encoding='utf-8')\n",
    "content = file_.read()\n",
    "file_.close()\n",
    "\n",
    "print(content)"
   ]
  },
  {
   "cell_type": "code",
   "execution_count": 4,
   "metadata": {
    "slideshow": {
     "slide_type": "subslide"
    }
   },
   "outputs": [
    {
     "name": "stdout",
     "output_type": "stream",
     "text": [
      "basnicka\n",
      "druhy radek\n",
      "\n"
     ]
    }
   ],
   "source": [
    "# automatické zavírání souborů pomocí `context manager`\n",
    "\n",
    "with open('poem.txt', encoding='utf-8') as file_:\n",
    "    content = file_.read()\n",
    "\n",
    "print(content)"
   ]
  },
  {
   "cell_type": "code",
   "execution_count": 6,
   "metadata": {
    "slideshow": {
     "slide_type": "subslide"
    }
   },
   "outputs": [
    {
     "name": "stdout",
     "output_type": "stream",
     "text": [
      "I heard this poem:\n",
      "\n",
      "    basnicka\n",
      "    druhy radek\n",
      "\n",
      "Do you like it?\n"
     ]
    }
   ],
   "source": [
    "# iterace nad soubory\n",
    "\n",
    "print('I heard this poem:')\n",
    "print()\n",
    "\n",
    "with open('poem.txt', encoding='utf-8') as file_:\n",
    "    for line in file_:\n",
    "        line = line.rstrip()\n",
    "        print('    ' + line)\n",
    "\n",
    "print()\n",
    "print('Do you like it?')"
   ]
  },
  {
   "cell_type": "code",
   "execution_count": 7,
   "metadata": {
    "slideshow": {
     "slide_type": "subslide"
    }
   },
   "outputs": [],
   "source": [
    "# psaní souborů\n",
    "\n",
    "with open('second-poem.txt', mode='w', encoding='utf-8') as file_:\n",
    "    print('Naše staré hodiny', file=file_)\n",
    "    file_.write('Bijí', 2+2, 'hodiny')"
   ]
  },
  {
   "cell_type": "code",
   "execution_count": 9,
   "metadata": {
    "slideshow": {
     "slide_type": "fragment"
    }
   },
   "outputs": [
    {
     "name": "stdout",
     "output_type": "stream",
     "text": [
      "Naše staré hodiny\n",
      "Bijí 4 hodiny\n",
      "\n"
     ]
    }
   ],
   "source": [
    "with open('second-poem.txt', encoding='utf-8') as file_:\n",
    "    content = file_.read()\n",
    "print(content)"
   ]
  },
  {
   "cell_type": "markdown",
   "metadata": {
    "slideshow": {
     "slide_type": "slide"
    }
   },
   "source": [
    "## JSON"
   ]
  },
  {
   "cell_type": "markdown",
   "metadata": {
    "slideshow": {
     "slide_type": "fragment"
    }
   },
   "source": [
    "- formát pro výměnu dat\n",
    "- programovácí jazyky se liší, ale mají společné základní typy: číslo, string, seznam, True/False atd.\n",
    "- pro přenos dat je nutné posílat JSON jako string"
   ]
  },
  {
   "cell_type": "code",
   "execution_count": 10,
   "metadata": {
    "slideshow": {
     "slide_type": "subslide"
    }
   },
   "outputs": [
    {
     "data": {
      "text/plain": [
       "{'name': 'Anna',\n",
       " 'city': 'Brno',\n",
       " 'language': ['czech', 'english', 'Python'],\n",
       " 'age': 26}"
      ]
     },
     "execution_count": 10,
     "metadata": {},
     "output_type": "execute_result"
    }
   ],
   "source": [
    "# python\n",
    "\n",
    "{\n",
    "    'name': 'Anna',\n",
    "    'city': 'Brno',\n",
    "    'language': ['czech', 'english', 'Python'],\n",
    "    'age': 26,\n",
    "}"
   ]
  },
  {
   "cell_type": "code",
   "execution_count": null,
   "metadata": {
    "slideshow": {
     "slide_type": "subslide"
    }
   },
   "outputs": [],
   "source": [
    "# YAML\n",
    "\n",
    "name: Anna\n",
    "city: Brno\n",
    "language:\n",
    "  - czech\n",
    "  - english\n",
    "  - Python\n",
    "age: 26"
   ]
  },
  {
   "cell_type": "code",
   "execution_count": null,
   "metadata": {
    "slideshow": {
     "slide_type": "subslide"
    }
   },
   "outputs": [],
   "source": [
    "# bencode\n",
    "\n",
    "d6:languagel9:czech11:english6:Pythone4:agei26e6:city4:Brno6:name4:Annae"
   ]
  },
  {
   "cell_type": "code",
   "execution_count": null,
   "metadata": {
    "slideshow": {
     "slide_type": "subslide"
    }
   },
   "outputs": [],
   "source": [
    "# json\n",
    "\n",
    "{\n",
    "  \"name\": \"Anna\",\n",
    "  \"city\": \"Brno\",\n",
    "  \"language\": [\"czech\", \"english\", \"Python\"],\n",
    "  \"age\": 26\n",
    "}"
   ]
  },
  {
   "cell_type": "code",
   "execution_count": 14,
   "metadata": {
    "slideshow": {
     "slide_type": "subslide"
    }
   },
   "outputs": [
    {
     "name": "stdout",
     "output_type": "stream",
     "text": [
      "{'name': 'Anna', 'city': 'Brno', 'language': ['czech', 'english', 'Python'], 'age': 26}\n",
      "Brno\n"
     ]
    }
   ],
   "source": [
    "# JSON v pythonu\n",
    "\n",
    "import json\n",
    "\n",
    "json_retezec = \"\"\"\n",
    "    {\n",
    "      \"name\": \"Anna\",\n",
    "      \"city\": \"Brno\",\n",
    "      \"language\": [\"czech\", \"english\", \"Python\"],\n",
    "      \"age\": 26\n",
    "    }\n",
    "\"\"\"\n",
    "data = json.loads(json_retezec)\n",
    "print(data)\n",
    "print(data['city'])"
   ]
  },
  {
   "cell_type": "code",
   "execution_count": 13,
   "metadata": {
    "scrolled": true,
    "slideshow": {
     "slide_type": "fragment"
    }
   },
   "outputs": [
    {
     "name": "stdout",
     "output_type": "stream",
     "text": [
      "{\n",
      "  \"name\": \"Anna\",\n",
      "  \"city\": \"Brno\",\n",
      "  \"language\": [\n",
      "    \"czech\",\n",
      "    \"english\",\n",
      "    \"Python\"\n",
      "  ],\n",
      "  \"age\": 26\n",
      "}\n"
     ]
    }
   ],
   "source": [
    "print(json.dumps(data, ensure_ascii=False, indent=2))"
   ]
  },
  {
   "cell_type": "markdown",
   "metadata": {
    "slideshow": {
     "slide_type": "slide"
    }
   },
   "source": [
    "## API"
   ]
  },
  {
   "cell_type": "markdown",
   "metadata": {
    "slideshow": {
     "slide_type": "subslide"
    }
   },
   "source": [
    "- Application programming interface\n",
    "- Sbírka procedur, funkcí, tříd či protokolů nějaké knihovny, které může programátor využívat namísto toho, aby je sám naprogramoval.\n",
    "- Je možné s danou službou komunikovat programově. Místo klikání na tlačítka a čtení stránek „očima” dostaneme data ve strojově čitelném formátu."
   ]
  },
  {
   "cell_type": "markdown",
   "metadata": {
    "slideshow": {
     "slide_type": "subslide"
    }
   },
   "source": [
    "### Github API"
   ]
  },
  {
   "cell_type": "markdown",
   "metadata": {
    "slideshow": {
     "slide_type": "subslide"
    }
   },
   "source": [
    "- Přihlaš se na `github.com`.\n",
    "- Jdi na nastavení `Personal Accesss Tokens`.\n",
    "- Vytvoř si nový token (`Generate new token`). Nezaškrtávej žádná oprávnění navíc.\n",
    "- Zkopíruj si heslo, které takto dostaneš, do souboru `token.txt`."
   ]
  },
  {
   "cell_type": "markdown",
   "metadata": {
    "slideshow": {
     "slide_type": "subslide"
    }
   },
   "source": [
    "### Requests"
   ]
  },
  {
   "cell_type": "markdown",
   "metadata": {
    "slideshow": {
     "slide_type": "subslide"
    }
   },
   "source": [
    "- knihovna pro práci s HTTP requesty"
   ]
  },
  {
   "cell_type": "markdown",
   "metadata": {
    "slideshow": {
     "slide_type": "subslide"
    }
   },
   "source": [
    "- `GET` načte informace,\n",
    "- `POST` pošle na server informace, např. z formuláře, s cílem něco změnit nebo nastavit,\n",
    "- `PUT` přidá novou stránku (nebo jiný objekt),\n",
    "- `DELETE` něco smaže."
   ]
  },
  {
   "cell_type": "markdown",
   "metadata": {
    "slideshow": {
     "slide_type": "subslide"
    }
   },
   "source": [
    "`python -m pip install requests`"
   ]
  },
  {
   "cell_type": "code",
   "execution_count": 3,
   "metadata": {
    "slideshow": {
     "slide_type": "subslide"
    }
   },
   "outputs": [
    {
     "name": "stdout",
     "output_type": "stream",
     "text": [
      "{'date': 'Tue, 21 Jul 2020 14:50:08 GMT', 'content-type': 'text/html; charset=utf-8', 'server': 'GitHub.com', 'status': '200 OK', 'vary': 'X-PJAX, Accept-Encoding, Accept, X-Requested-With, Accept-Encoding', 'etag': 'W/\"f6517213ff8d550376cb1916c7ca7c7f\"', 'cache-control': 'max-age=0, private, must-revalidate', 'strict-transport-security': 'max-age=31536000; includeSubdomains; preload', 'x-frame-options': 'deny', 'x-content-type-options': 'nosniff', 'x-xss-protection': '1; mode=block', 'referrer-policy': 'origin-when-cross-origin, strict-origin-when-cross-origin', 'expect-ct': 'max-age=2592000, report-uri=\"https://api.github.com/_private/browser/errors\"', 'content-security-policy': \"default-src 'none'; base-uri 'self'; block-all-mixed-content; connect-src 'self' uploads.github.com www.githubstatus.com collector.githubapp.com api.github.com www.google-analytics.com github-cloud.s3.amazonaws.com github-production-repository-file-5c1aeb.s3.amazonaws.com github-production-upload-manifest-file-7fdce7.s3.amazonaws.com github-production-user-asset-6210df.s3.amazonaws.com cdn.optimizely.com logx.optimizely.com/v1/events wss://alive.github.com; font-src github.githubassets.com; form-action 'self' github.com gist.github.com; frame-ancestors 'none'; frame-src render.githubusercontent.com; img-src 'self' data: github.githubassets.com identicons.github.com collector.githubapp.com github-cloud.s3.amazonaws.com *.githubusercontent.com customer-stories-feed.github.com spotlights-feed.github.com; manifest-src 'self'; media-src 'none'; script-src github.githubassets.com; style-src 'unsafe-inline' github.githubassets.com; worker-src github.com/socket-worker.js gist.github.com/socket-worker.js\", 'Content-Encoding': 'gzip', 'Set-Cookie': '_gh_sess=uFLANglme4McuQeVnsIx%2BTZYoTrGs3OoKdEvCKVtaQfqLGnRHtr%2FEzlYJbEHi3vndncu9CHlcVbbD8XRubaak3e22gBSAYv3J3Fph3ywC%2FuM6IXTdvMpmCC4eZyeErVNoE4DViBDne9G8HrzmznbYXObsdKdtGOND75IWy87y5hkntrSox4eTtOI%2Ft%2Fx8kgRf5uzHMinsA8kQ0qevjjpoppi0F7zRjRW5zA%2B5aNXNaxNZGf%2FOPxFaadAzxn3ORLoTHH8d7p6j%2FwN9DB4%2BwSYhg%3D%3D--2eT8doHrGTt130EV--MPypSwfxPPposMt9sa%2F%2FNQ%3D%3D; Path=/; HttpOnly; Secure; SameSite=Lax, _octo=GH1.1.2051605640.1595343016; Path=/; Domain=github.com; Expires=Wed, 21 Jul 2021 14:50:16 GMT; Secure; SameSite=Lax, logged_in=no; Path=/; Domain=github.com; Expires=Wed, 21 Jul 2021 14:50:16 GMT; HttpOnly; Secure; SameSite=Lax', 'Accept-Ranges': 'bytes', 'Transfer-Encoding': 'chunked', 'X-GitHub-Request-Id': '8566:60BF:56A1E1B:7F52A0D:5F1700A8'}\n"
     ]
    }
   ],
   "source": [
    "import requests\n",
    "\n",
    "# stažení stránky\n",
    "page = requests.get('https://github.com')\n",
    "\n",
    "# ověření, že dotaz proběhl v pořádku\n",
    "page.raise_for_status()\n",
    "\n",
    "# vypsání hlaviček\n",
    "print(page.headers)\n",
    "\n",
    "# vypsání obsahu\n",
    "print(page.text)"
   ]
  },
  {
   "cell_type": "code",
   "execution_count": null,
   "metadata": {
    "slideshow": {
     "slide_type": "subslide"
    }
   },
   "outputs": [],
   "source": [
    "import requests\n",
    "\n",
    "with open('token.txt') as file_:\n",
    "    token = file_.read().strip()\n",
    "\n",
    "headers = {'Authorization': 'token ' + token}\n",
    "\n",
    "page = requests.get('https://api.github.com/user', headers=headers)\n",
    "page.raise_for_status()\n",
    "print(page.text)"
   ]
  },
  {
   "cell_type": "code",
   "execution_count": null,
   "metadata": {
    "slideshow": {
     "slide_type": "fragment"
    }
   },
   "outputs": [],
   "source": [
    "import json\n",
    "\n",
    "data = json.loads(page.text)\n",
    "\n",
    "print(json.dumps(data, ensure_ascii=True, indent=2))\n",
    "\n",
    "print(data['avatar_url'])"
   ]
  },
  {
   "cell_type": "markdown",
   "metadata": {
    "slideshow": {
     "slide_type": "subslide"
    }
   },
   "source": [
    "- Pomocí webových API se dají informace nejen číst, ale i měnit.\n",
    "- Na stránce `github.com/pyvec/naucse.python.cz/stargazers` je seznam lidí, kteří „ohvězdičkovali” tyto učební materiály."
   ]
  },
  {
   "cell_type": "markdown",
   "metadata": {
    "slideshow": {
     "slide_type": "subslide"
    }
   },
   "source": [
    "- Napřed svému tokenu (na Githubu v nastavení `Personal Accesss Tokens`) přidej právo `public_repo`. Od teď token střež obzvlášť pečlivě, protože se pomocí něj dají informace na Githubu i měnit."
   ]
  },
  {
   "cell_type": "code",
   "execution_count": null,
   "metadata": {
    "slideshow": {
     "slide_type": "subslide"
    }
   },
   "outputs": [],
   "source": [
    "import requests\n",
    "\n",
    "with open('token.txt') as file_:\n",
    "    token = file_.read().strip()\n",
    "\n",
    "headers = {'Authorization': 'token ' + token}\n",
    "\n",
    "page = requests.put('https://api.github.com/user/starred/pyvec/naucse.python.cz', headers=headers)\n",
    "page.raise_for_status()"
   ]
  },
  {
   "cell_type": "markdown",
   "metadata": {
    "slideshow": {
     "slide_type": "subslide"
    }
   },
   "source": [
    "- Chceš-li hvězdičku zase odstranit, použij metodu DELETE na stejnou adresu. (Ale nezapomeň tam pak ★ zase vrátit! ☺)"
   ]
  }
 ],
 "metadata": {
  "celltoolbar": "Slideshow",
  "kernelspec": {
   "display_name": "Python 3",
   "language": "python",
   "name": "python3"
  },
  "language_info": {
   "codemirror_mode": {
    "name": "ipython",
    "version": 3
   },
   "file_extension": ".py",
   "mimetype": "text/x-python",
   "name": "python",
   "nbconvert_exporter": "python",
   "pygments_lexer": "ipython3",
   "version": "3.8.2"
  },
  "rise": {
   "scroll": true
  }
 },
 "nbformat": 4,
 "nbformat_minor": 2
}
