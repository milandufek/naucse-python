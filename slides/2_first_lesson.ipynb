{
 "cells": [
  {
   "cell_type": "markdown",
   "metadata": {
    "slideshow": {
     "slide_type": "slide"
    }
   },
   "source": [
    "# První program"
   ]
  },
  {
   "cell_type": "markdown",
   "metadata": {
    "slideshow": {
     "slide_type": "subslide"
    }
   },
   "source": [
    "## První příkazy v Pythonu"
   ]
  },
  {
   "cell_type": "markdown",
   "metadata": {
    "slideshow": {
     "slide_type": "fragment"
    }
   },
   "source": [
    "- jsem ve správné složce\n",
    "- mám aktivované virtuální prostředí"
   ]
  },
  {
   "cell_type": "markdown",
   "metadata": {
    "slideshow": {
     "slide_type": "slide"
    }
   },
   "source": [
    "## První program"
   ]
  },
  {
   "cell_type": "markdown",
   "metadata": {
    "slideshow": {
     "slide_type": "fragment"
    }
   },
   "source": [
    "Vytvoř si nový soubor. \n",
    "Do něj napiš:\n",
    "\n",
    "\n",
    "```python\n",
    "print('Ahoj světe!')\n",
    "```\n",
    "\n",
    "Ulož ho jako `ahoj.py`"
   ]
  },
  {
   "cell_type": "markdown",
   "metadata": {
    "slideshow": {
     "slide_type": "fragment"
    }
   },
   "source": [
    "Spusť ho v příkazové řádce pomocí `python ahoj.py`"
   ]
  },
  {
   "cell_type": "markdown",
   "metadata": {
    "slideshow": {
     "slide_type": "slide"
    }
   },
   "source": [
    "## Print a chybové hlášky"
   ]
  },
  {
   "cell_type": "code",
   "execution_count": 5,
   "metadata": {
    "slideshow": {
     "slide_type": "subslide"
    }
   },
   "outputs": [
    {
     "ename": "SyntaxError",
     "evalue": "invalid syntax (<ipython-input-5-dcef8c57a8c4>, line 11)",
     "output_type": "error",
     "traceback": [
      "\u001b[0;36m  File \u001b[0;32m\"<ipython-input-5-dcef8c57a8c4>\"\u001b[0;36m, line \u001b[0;32m11\u001b[0m\n\u001b[0;31m    print(V míse je maso.)\u001b[0m\n\u001b[0m               ^\u001b[0m\n\u001b[0;31mSyntaxError\u001b[0m\u001b[0;31m:\u001b[0m invalid syntax\n"
     ]
    }
   ],
   "source": [
    "print(1)\n",
    "print(1, 2, 3)\n",
    "print(1 + 1)\n",
    "print(3 * 8)\n",
    "print(10 - 2.2)\n",
    "print(3 + (4 + 6) * 8 / 2 - 1)\n",
    "print('*' * 80)\n",
    "print(\"Ahoj\" + \" \" + \"PyLadies!\")\n",
    "print(\"Součet čísel 3 a 8 je\", 3 + 8)\n",
    "print('Máma má mísu')\n",
    "print(V míse je maso.)"
   ]
  },
  {
   "cell_type": "markdown",
   "metadata": {
    "slideshow": {
     "slide_type": "subslide"
    }
   },
   "source": [
    "## Jak funguje program"
   ]
  },
  {
   "cell_type": "markdown",
   "metadata": {
    "slideshow": {
     "slide_type": "fragment"
    }
   },
   "source": [
    "- příkazy se provádí postupně jeden po druhém"
   ]
  },
  {
   "cell_type": "markdown",
   "metadata": {
    "slideshow": {
     "slide_type": "subslide"
    }
   },
   "source": [
    "## Print a výrazy"
   ]
  },
  {
   "cell_type": "code",
   "execution_count": 9,
   "metadata": {
    "slideshow": {
     "slide_type": "fragment"
    }
   },
   "outputs": [
    {
     "name": "stdout",
     "output_type": "stream",
     "text": [
      "Ahoj světe!\n"
     ]
    }
   ],
   "source": [
    "print('Ahoj světe!')"
   ]
  },
  {
   "cell_type": "markdown",
   "metadata": {
    "slideshow": {
     "slide_type": "fragment"
    }
   },
   "source": [
    "- `print` - funkce\n",
    "- `\"Ahoj světe!\"` - výraz"
   ]
  },
  {
   "cell_type": "markdown",
   "metadata": {
    "slideshow": {
     "slide_type": "slide"
    }
   },
   "source": [
    "## Proměnné"
   ]
  },
  {
   "cell_type": "markdown",
   "metadata": {
    "slideshow": {
     "slide_type": "fragment"
    }
   },
   "source": [
    "### Úkol\n",
    "\n",
    "- Vytvoř si nový soubor `ctverec.py`.\n",
    "- Napiš do něj program, který spočítá a vypíše obvod a obsah čtverce se stranou 356 cm.\n",
    "- Po spuštění by se mělo vypsat něco jako:\n",
    "\n",
    "```\n",
    "Obvod čtverce se stranou 356 cm je 1424 cm\n",
    "Obsah čtverce se stranou 356 cm je 126736 cm2\n",
    "```\n",
    "\n",
    "- Obvod: O = 4a\n",
    "- Obsah S = a²"
   ]
  },
  {
   "cell_type": "code",
   "execution_count": 7,
   "metadata": {
    "slideshow": {
     "slide_type": "subslide"
    }
   },
   "outputs": [
    {
     "name": "stdout",
     "output_type": "stream",
     "text": [
      "Obvod čtverce se stranou 123 je 492 cm\n",
      "Obsah čtverce se stranou 123 je 15129 cm2\n"
     ]
    }
   ],
   "source": [
    "strana = 123\n",
    "print('Obvod čtverce se stranou', strana, 'je', 4 * strana, 'cm')\n",
    "print('Obsah čtverce se stranou', strana, 'je', strana * strana, 'cm2')"
   ]
  },
  {
   "cell_type": "markdown",
   "metadata": {
    "slideshow": {
     "slide_type": "subslide"
    }
   },
   "source": [
    "## Komentáře"
   ]
  },
  {
   "cell_type": "code",
   "execution_count": 8,
   "metadata": {
    "slideshow": {
     "slide_type": "fragment"
    }
   },
   "outputs": [
    {
     "name": "stdout",
     "output_type": "stream",
     "text": [
      "Obvod čtverce se stranou 123 je 492 cm\n",
      "Obsah čtverce se stranou 123 je 15129 cm2\n"
     ]
    }
   ],
   "source": [
    "# Tento program počítá obvod a obsah čtverce.\n",
    "\n",
    "strana = 123  # v centimetrech\n",
    "print('Obvod čtverce se stranou', strana, 'je', 4 * strana, 'cm')\n",
    "print('Obsah čtverce se stranou', strana, 'je', strana * strana, 'cm2')"
   ]
  },
  {
   "cell_type": "markdown",
   "metadata": {
    "slideshow": {
     "slide_type": "subslide"
    }
   },
   "source": [
    "## Načítání vstupu"
   ]
  },
  {
   "cell_type": "markdown",
   "metadata": {
    "slideshow": {
     "slide_type": "subslide"
    }
   },
   "source": [
    "Chceš-li načíst řetězec (text), použij:\n",
    "- `promenna = input('Zadej řetězec: ')`\n",
    "\n",
    "Chceš-li načíst celé číslo, použij:\n",
    "- `promenna = int(input('Zadej číslo: '))`\n",
    "\n",
    "Chceš-li načíst desetinné číslo, použij:\n",
    "- `promenna = float(input('Zadej číslo: '))`"
   ]
  },
  {
   "cell_type": "markdown",
   "metadata": {
    "slideshow": {
     "slide_type": "subslide"
    }
   },
   "source": [
    "### Úkol\n",
    "\n",
    "- Pomocí funkce `input` uprav program pro čtverec tak, aby uživatel mohl zadat vlastní hodnotu.\n"
   ]
  },
  {
   "cell_type": "markdown",
   "metadata": {
    "slideshow": {
     "slide_type": "slide"
    }
   },
   "source": [
    "## Porovnávání"
   ]
  },
  {
   "cell_type": "markdown",
   "metadata": {
    "slideshow": {
     "slide_type": "fragment"
    }
   },
   "source": [
    "- provádí se pomocí `operátorů`"
   ]
  },
  {
   "cell_type": "markdown",
   "metadata": {
    "slideshow": {
     "slide_type": "fragment"
    }
   },
   "source": [
    "### Matematické\n",
    "- `+`\n",
    "- `-`\n",
    "- `/`\n",
    "- `*`\n",
    "\n",
    "### Porovnávací\n",
    "- `==`\n",
    "- `!=`\n",
    "- `<`\n",
    "- `>`\n",
    "- `<=`\n",
    "- `>=`\n",
    "\n"
   ]
  },
  {
   "cell_type": "markdown",
   "metadata": {
    "slideshow": {
     "slide_type": "subslide"
    }
   },
   "source": [
    "- výsledkem porovnání je tzv. booleanovská hodnota, `True` nebo `False`\n",
    "- pozor na velikost písmen"
   ]
  },
  {
   "cell_type": "code",
   "execution_count": 11,
   "metadata": {
    "slideshow": {
     "slide_type": "fragment"
    }
   },
   "outputs": [
    {
     "name": "stdout",
     "output_type": "stream",
     "text": [
      "True\n",
      "False\n"
     ]
    }
   ],
   "source": [
    "pravda = 1 < 3\n",
    "print(pravda)\n",
    "\n",
    "nepravda = 1 == 3\n",
    "print(nepravda)"
   ]
  },
  {
   "cell_type": "markdown",
   "metadata": {
    "slideshow": {
     "slide_type": "slide"
    }
   },
   "source": [
    "## Podmínky"
   ]
  },
  {
   "cell_type": "code",
   "execution_count": null,
   "metadata": {
    "slideshow": {
     "slide_type": "subslide"
    }
   },
   "outputs": [],
   "source": [
    "strana = float(input('Zadej stranu čtverce v centimetrech: '))\n",
    "cislo_je_spravne = strana > 0"
   ]
  },
  {
   "cell_type": "code",
   "execution_count": null,
   "metadata": {
    "slideshow": {
     "slide_type": "subslide"
    }
   },
   "outputs": [],
   "source": [
    "strana = float(input('Zadej stranu čtverce v centimetrech: '))\n",
    "cislo_je_spravne = strana > 0\n",
    "\n",
    "if cislo_je_spravne:\n",
    "    print('Obvod čtverce se stranou', strana, 'je', 4 * strana, 'cm')\n",
    "    print('Obsah čtverce se stranou', strana, 'je', strana * strana, 'cm2')\n",
    "else:\n",
    "    print('Strana musí být kladná, jinak z toho nebude čtverec!')\n",
    "\n",
    "print('Děkujeme za použití geometrické kalkulačky.')"
   ]
  },
  {
   "cell_type": "code",
   "execution_count": null,
   "metadata": {
    "slideshow": {
     "slide_type": "subslide"
    }
   },
   "outputs": [],
   "source": [
    "cislo = int(input('Zadej číslo, přičtu k němu 3: '))\n",
    "if cislo == 0:\n",
    "    print('Jé, to je jednoduché!')\n",
    "print(cislo, '+ 3 =', cislo + 3)"
   ]
  },
  {
   "cell_type": "code",
   "execution_count": null,
   "metadata": {
    "slideshow": {
     "slide_type": "subslide"
    }
   },
   "outputs": [],
   "source": [
    "vek = int(input('Kolik ti je let? '))\n",
    "if vek >= 150:\n",
    "    print('A ze kterépak jsi planety?')\n",
    "elif vek >= 18:\n",
    "    # Tahle větev se např. pro \"200\" už neprovede.\n",
    "    print('Můžeme nabídnout: víno, cider, nebo vodku.')\n",
    "elif vek >= 1:\n",
    "    print('Můžeme nabídnout: mléko, čaj, nebo vodu')\n",
    "elif vek >= 0:\n",
    "    print('Sunar už bohužel došel.')\n",
    "else:\n",
    "    # Nenastala ani nedna ze situací výše – muselo to být záporné\n",
    "    print('Návštěvníky z budoucnosti tady nevidíme rádi.')"
   ]
  },
  {
   "cell_type": "code",
   "execution_count": null,
   "metadata": {
    "slideshow": {
     "slide_type": "subslide"
    }
   },
   "outputs": [],
   "source": [
    "tah_pocitace = 'kámen'\n",
    "tah_cloveka = input('kámen, nůžky, nebo papír? ')\n",
    "\n",
    "if tah_cloveka == 'kámen':\n",
    "    if tah_pocitace == 'kámen':\n",
    "        print('Plichta.')\n",
    "    elif tah_pocitace == 'nůžky':\n",
    "        print('Vyhrála jsi!')\n",
    "    elif tah_pocitace == 'papír':\n",
    "        print('Počítač vyhrál.')\n",
    "elif tah_cloveka == 'nůžky':\n",
    "    if tah_pocitace == 'kámen':\n",
    "        print('Počítač vyhrál.')\n",
    "    elif tah_pocitace == 'nůžky':\n",
    "        print('Plichta.')\n",
    "    elif tah_pocitace == 'papír':\n",
    "        print('Vyhrála jsi!')\n",
    "elif tah_cloveka == 'papír':\n",
    "    if tah_pocitace == 'kámen':\n",
    "        print('Vyhrála jsi!')\n",
    "    elif tah_pocitace == 'nůžky':\n",
    "        print('Počítač vyhrál.')\n",
    "    elif tah_pocitace == 'papír':\n",
    "        print('Plichta.')\n",
    "else:\n",
    "    print('Nerozumím.')"
   ]
  },
  {
   "cell_type": "markdown",
   "metadata": {
    "slideshow": {
     "slide_type": "slide"
    }
   },
   "source": [
    "## Nebo anebo a"
   ]
  },
  {
   "cell_type": "markdown",
   "metadata": {
    "slideshow": {
     "slide_type": "fragment"
    }
   },
   "source": [
    "- `and`\n",
    "- `or`\n",
    "- `not`"
   ]
  },
  {
   "cell_type": "code",
   "execution_count": null,
   "metadata": {
    "slideshow": {
     "slide_type": "subslide"
    }
   },
   "outputs": [],
   "source": [
    "# Tento program rozdává naivní rady do života.\n",
    "\n",
    "print('Odpovídej \"ano\" nebo \"ne\".')\n",
    "stastna_retezec = input('Jsi šťastná? ')\n",
    "if stastna_retezec == 'ano':\n",
    "    stastna = True\n",
    "elif stastna_retezec == 'ne':\n",
    "    stastna = False\n",
    "else:\n",
    "    print('Nerozumím!')\n",
    "\n",
    "bohata_retezec = input('Jsi bohatá? ')\n",
    "if bohata_retezec == 'ano':\n",
    "    bohata = True\n",
    "elif bohata_retezec == 'ne':\n",
    "    bohata = False\n",
    "else:\n",
    "    print('Nerozumím!')\n",
    "\n",
    "if bohata and stastna:\n",
    "    # Je bohatá a zároveň štǎstná, ta se má.\n",
    "    print('Gratuluji!')\n",
    "elif bohata:\n",
    "    # Je bohatá, ale není „bohatá a zároveň šťastná“,\n",
    "    # takže musí být jen bohatá.\n",
    "    print('Zkus se víc usmívat.')\n",
    "elif stastna:\n",
    "    # Tady musí být jen šťastná.\n",
    "    print('Zkus míň utrácet.')\n",
    "else:\n",
    "    # A tady víme, že není ani šťastná, ani bohatá.\n",
    "    print('To je mi líto.')"
   ]
  },
  {
   "cell_type": "markdown",
   "metadata": {
    "slideshow": {
     "slide_type": "slide"
    }
   },
   "source": [
    "### git"
   ]
  },
  {
   "cell_type": "markdown",
   "metadata": {
    "slideshow": {
     "slide_type": "fragment"
    }
   },
   "source": [
    "- nástroj pro správu verzí"
   ]
  },
  {
   "cell_type": "markdown",
   "metadata": {
    "slideshow": {
     "slide_type": "subslide"
    }
   },
   "source": [
    "![function](img/versions.png)"
   ]
  },
  {
   "cell_type": "markdown",
   "metadata": {
    "slideshow": {
     "slide_type": "subslide"
    }
   },
   "source": [
    "- přejdi do složky `pyladies`"
   ]
  },
  {
   "cell_type": "markdown",
   "metadata": {
    "slideshow": {
     "slide_type": "fragment"
    }
   },
   "source": [
    "- napiš `git init`"
   ]
  },
  {
   "cell_type": "markdown",
   "metadata": {
    "slideshow": {
     "slide_type": "fragment"
    }
   },
   "source": [
    "- napiš `git status`"
   ]
  },
  {
   "cell_type": "markdown",
   "metadata": {
    "slideshow": {
     "slide_type": "fragment"
    }
   },
   "source": [
    "- napiš `echo venv/* > .gitignore`"
   ]
  },
  {
   "cell_type": "markdown",
   "metadata": {
    "slideshow": {
     "slide_type": "fragment"
    }
   },
   "source": [
    "- napiš `git add .`"
   ]
  },
  {
   "cell_type": "markdown",
   "metadata": {
    "slideshow": {
     "slide_type": "fragment"
    }
   },
   "source": [
    "- napiš `git commit -m \"First commit\"`"
   ]
  },
  {
   "cell_type": "markdown",
   "metadata": {
    "slideshow": {
     "slide_type": "subslide"
    }
   },
   "source": [
    "- jdi na `github.com` a zaregistruj se"
   ]
  },
  {
   "cell_type": "markdown",
   "metadata": {
    "slideshow": {
     "slide_type": "fragment"
    }
   },
   "source": [
    "- na úvodní stránce klikni na `Start a project`"
   ]
  },
  {
   "cell_type": "markdown",
   "metadata": {
    "slideshow": {
     "slide_type": "fragment"
    }
   },
   "source": [
    "- zvol jméno pro svůj repozitář - např. `pyladies`"
   ]
  },
  {
   "cell_type": "markdown",
   "metadata": {
    "slideshow": {
     "slide_type": "fragment"
    }
   },
   "source": [
    "- v sekci `…or push an existing repository from the command line` zkopíruj postupně první a druhý příkaz a vlož je do terminálu"
   ]
  },
  {
   "cell_type": "markdown",
   "metadata": {
    "slideshow": {
     "slide_type": "fragment"
    }
   },
   "source": [
    "- tvůj kód je nahraný na githubu "
   ]
  }
 ],
 "metadata": {
  "celltoolbar": "Slideshow",
  "kernelspec": {
   "display_name": "Python 3",
   "language": "python",
   "name": "python3"
  },
  "language_info": {
   "codemirror_mode": {
    "name": "ipython",
    "version": 3
   },
   "file_extension": ".py",
   "mimetype": "text/x-python",
   "name": "python",
   "nbconvert_exporter": "python",
   "pygments_lexer": "ipython3",
   "version": "3.7.3"
  }
 },
 "nbformat": 4,
 "nbformat_minor": 2
}
