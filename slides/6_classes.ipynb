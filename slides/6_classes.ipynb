{
 "cells": [
  {
   "cell_type": "markdown",
   "metadata": {
    "slideshow": {
     "slide_type": "slide"
    }
   },
   "source": [
    "## Třídy a objekty"
   ]
  },
  {
   "cell_type": "markdown",
   "metadata": {
    "slideshow": {
     "slide_type": "subslide"
    }
   },
   "source": [
    "## Co je to objekt?"
   ]
  },
  {
   "cell_type": "markdown",
   "metadata": {
    "slideshow": {
     "slide_type": "fragment"
    }
   },
   "source": [
    "Každá hodnota (tj. něco, co můžeš uložit do proměnné, vrátit z funkce nebo třeba seznamu) je objekt."
   ]
  },
  {
   "cell_type": "markdown",
   "metadata": {
    "slideshow": {
     "slide_type": "subslide"
    }
   },
   "source": [
    "Základní vlastnost objektů je to, že obsahují:\n",
    "-  data (informace)\n",
    "- chování – instrukce nebo metody, které s těmito daty pracují. \n"
   ]
  },
  {
   "cell_type": "code",
   "execution_count": 4,
   "metadata": {
    "slideshow": {
     "slide_type": "subslide"
    }
   },
   "outputs": [
    {
     "name": "stdout",
     "output_type": "stream",
     "text": [
      "dog\n",
      "DOG\n",
      "1\n"
     ]
    }
   ],
   "source": [
    "word = 'dog'\n",
    "print(word)\n",
    "print(word.upper())\n",
    "print(word.count('d'))"
   ]
  },
  {
   "cell_type": "code",
   "execution_count": 6,
   "metadata": {
    "slideshow": {
     "slide_type": "fragment"
    }
   },
   "outputs": [],
   "source": [
    "def count(input_string, char):\n",
    "    number = 0\n",
    "    for c in input_string:\n",
    "        if c == char:\n",
    "            number = number + 1\n",
    "    return number"
   ]
  },
  {
   "cell_type": "code",
   "execution_count": 9,
   "metadata": {
    "slideshow": {
     "slide_type": "subslide"
    }
   },
   "outputs": [
    {
     "name": "stdout",
     "output_type": "stream",
     "text": [
      "<class 'int'>\n",
      "<class 'bool'>\n",
      "<class 'str'>\n"
     ]
    }
   ],
   "source": [
    "print(type(0))\n",
    "print(type(True))\n",
    "print(type(\"abc\"))\n"
   ]
  },
  {
   "cell_type": "code",
   "execution_count": 11,
   "metadata": {
    "slideshow": {
     "slide_type": "subslide"
    }
   },
   "outputs": [
    {
     "name": "stdout",
     "output_type": "stream",
     "text": [
      "8\n",
      "[1, 2, 3]\n"
     ]
    }
   ],
   "source": [
    "class_of_strings = type(\"abc\")\n",
    "print(class_of_strings(8))\n",
    "\n",
    "print(class_of_strings([1, 2, 3]))\n"
   ]
  },
  {
   "cell_type": "code",
   "execution_count": 13,
   "metadata": {
    "slideshow": {
     "slide_type": "subslide"
    }
   },
   "outputs": [
    {
     "name": "stdout",
     "output_type": "stream",
     "text": [
      "<class 'str'>\n",
      "<class 'str'>\n",
      "True\n"
     ]
    }
   ],
   "source": [
    "print(str)\n",
    "print(type('abcdefgh'))\n",
    "print(type('abcdefgh') == str)\n",
    "\n"
   ]
  },
  {
   "cell_type": "markdown",
   "metadata": {
    "slideshow": {
     "slide_type": "slide"
    }
   },
   "source": [
    "## Vlastní třídy"
   ]
  },
  {
   "cell_type": "code",
   "execution_count": null,
   "metadata": {
    "slideshow": {
     "slide_type": "subslide"
    }
   },
   "outputs": [],
   "source": [
    "class Kitten:\n",
    "    def meow(self):\n",
    "        print(\"Meow!\")"
   ]
  },
  {
   "cell_type": "code",
   "execution_count": null,
   "metadata": {
    "slideshow": {
     "slide_type": "fragment"
    }
   },
   "outputs": [],
   "source": [
    "# Vytvoření konkrétního objektu\n",
    "kitten = Kitten()\n",
    "\n",
    "# Volání metody\n",
    "kitten.meow()"
   ]
  },
  {
   "cell_type": "markdown",
   "metadata": {
    "slideshow": {
     "slide_type": "slide"
    }
   },
   "source": [
    "## Atributy"
   ]
  },
  {
   "cell_type": "code",
   "execution_count": null,
   "metadata": {
    "slideshow": {
     "slide_type": "subslide"
    }
   },
   "outputs": [],
   "source": [
    "mourek = Kitten()\n",
    "mourek.name = 'Mourek'\n",
    "\n",
    "micka = Kitten()\n",
    "micka.name = 'Micka'\n",
    "\n",
    "print(mourek.name)\n",
    "print(micka.name)"
   ]
  },
  {
   "cell_type": "code",
   "execution_count": null,
   "metadata": {
    "slideshow": {
     "slide_type": "subslide"
    }
   },
   "outputs": [],
   "source": [
    "micka = Kitten()\n",
    "micka.meow = 12345\n",
    "micka.meow()"
   ]
  },
  {
   "cell_type": "markdown",
   "metadata": {
    "slideshow": {
     "slide_type": "slide"
    }
   },
   "source": [
    "## Parametr `self`"
   ]
  },
  {
   "cell_type": "markdown",
   "metadata": {
    "slideshow": {
     "slide_type": "fragment"
    }
   },
   "source": [
    "Každá metoda má přístup ke konkrétnímu objektu, na kterém pracuje, právě přes argument `self`. "
   ]
  },
  {
   "cell_type": "code",
   "execution_count": null,
   "metadata": {
    "scrolled": true,
    "slideshow": {
     "slide_type": "subslide"
    }
   },
   "outputs": [],
   "source": [
    "class Kitten:\n",
    "    def meow(self):\n",
    "        print(\"{}: Meow!\".format(self.name))\n",
    "\n",
    "mourek = Kitten()\n",
    "mourek.name = 'Mourek'\n",
    "\n",
    "micka = Kitten()\n",
    "micka.name = 'Micka'\n",
    "\n",
    "mourek.meow()\n",
    "micka.meow()"
   ]
  },
  {
   "cell_type": "code",
   "execution_count": null,
   "metadata": {
    "slideshow": {
     "slide_type": "subslide"
    }
   },
   "outputs": [],
   "source": [
    "def eat(self, food):\n",
    "    print(\"{}: Meow meow! I like {}!\".format(self.name, food))\n",
    "\n",
    "mourek = Kitten()\n",
    "mourek.name = 'Mourek'\n",
    "mourek.eat('fish')"
   ]
  },
  {
   "cell_type": "markdown",
   "metadata": {
    "slideshow": {
     "slide_type": "slide"
    }
   },
   "source": [
    "## Metoda __init__"
   ]
  },
  {
   "cell_type": "code",
   "execution_count": null,
   "metadata": {
    "slideshow": {
     "slide_type": "subslide"
    }
   },
   "outputs": [],
   "source": [
    "class Kitten:\n",
    "    def __init__(self, name):\n",
    "        self.name = name\n",
    "\n",
    "    def meow(self):\n",
    "        print(\"{}: Meow!\".format(self.name))\n",
    "\n",
    "    def eat(self, food):\n",
    "        print(\"{}: Meow meow! I like {}!\".format(self.name, food))\n",
    "\n",
    "mourek = Kitten('Mourek')\n",
    "mourek.meow()"
   ]
  },
  {
   "cell_type": "code",
   "execution_count": null,
   "metadata": {
    "slideshow": {
     "slide_type": "subslide"
    }
   },
   "outputs": [],
   "source": [
    "class Kitten:\n",
    "    def __init__(self, name):\n",
    "        self.name = name\n",
    "\n",
    "    def __str__(self):\n",
    "        return '<Kitten named {}>'.format(self.name)\n",
    "\n",
    "    def meow(self):\n",
    "        print(\"{}: Meow!\".format(self.name))\n",
    "\n",
    "    def eat(self, food):\n",
    "        print(\"{}: Meow meow! I like {}!\".format(self.name, food))\n",
    "\n",
    "mourek = Kitten('Mourek')\n",
    "print(mourek)"
   ]
  },
  {
   "cell_type": "markdown",
   "metadata": {
    "slideshow": {
     "slide_type": "subslide"
    }
   },
   "source": [
    "Teď, když už umíš dělat koťátka, zkus vytvořit třídu pro kočku.\n",
    "\n",
    "- Kočka umí mňoukat metodou `meow`.\n",
    "- Kočka má na začátku (při vytvoření) 9 životů (nemůže mít nikdy víc než 9 nebo míň než 0!).\n",
    "- Kočka umí říct, jestli je živá (nemá 0 životů), metodou `is_alive`.\n",
    "- Kočka může ztratit život metodou `lose_life`.\n",
    "- Kočku můžeš nakrmit metodou `eat`, která bere 1 argument - nějaké konkrétní jídlo (řetězec). Pokud je toto jídlo \"fish\", kočce se obnoví jeden život (pokud teda už není mrtvá, nebo nemá maximální počet životů)."
   ]
  }
 ],
 "metadata": {
  "celltoolbar": "Slideshow",
  "kernelspec": {
   "display_name": "Python 3",
   "language": "python",
   "name": "python3"
  },
  "language_info": {
   "codemirror_mode": {
    "name": "ipython",
    "version": 3
   },
   "file_extension": ".py",
   "mimetype": "text/x-python",
   "name": "python",
   "nbconvert_exporter": "python",
   "pygments_lexer": "ipython3",
   "version": "3.8.2"
  },
  "rise": {
   "scroll": true
  }
 },
 "nbformat": 4,
 "nbformat_minor": 2
}
