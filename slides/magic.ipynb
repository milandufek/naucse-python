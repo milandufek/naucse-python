{
 "cells": [
  {
   "cell_type": "markdown",
   "metadata": {
    "slideshow": {
     "slide_type": "slide"
    }
   },
   "source": [
    "## Pokročilé techniky programování"
   ]
  },
  {
   "cell_type": "markdown",
   "metadata": {
    "slideshow": {
     "slide_type": "slide"
    }
   },
   "source": [
    "## Magie\n",
    "- There should be one and preferably only one obvious way to do it.\n",
    "- Magie je něco, co funguje, ačkoli tomu nerozumíme.\n",
    "- optimalizace a použitelnost vs čitelnost a udržovatelnost\n",
    "- knihovny, frameworky "
   ]
  },
  {
   "cell_type": "markdown",
   "metadata": {
    "slideshow": {
     "slide_type": "slide"
    }
   },
   "source": [
    "## Dekorátory a lambda funkce\n",
    "## Speciální (Magic) metody\n",
    "    - Kontex manažery\n",
    "    - Iterátory\n",
    "## Generátory"
   ]
  },
  {
   "cell_type": "markdown",
   "metadata": {
    "slideshow": {
     "slide_type": "slide"
    }
   },
   "source": [
    "## Dekorátory\n",
    "- funkce vyšších řádů \n",
    "- dekorují funkce a třídy za účelem přidání nové funkcionality\n",
    "- syntax:\n",
    "```python\n",
    "@decorator  # decorated_function = decorator(decorated_function)\n",
    "def decorated_function():\n",
    "    ...\n",
    "    return \n",
    "```\n"
   ]
  },
  {
   "cell_type": "code",
   "execution_count": null,
   "metadata": {
    "slideshow": {
     "slide_type": "subslide"
    }
   },
   "outputs": [],
   "source": [
    "import time\n",
    "\n",
    "def time_it(fn):\n",
    "    @wraps(fn)\n",
    "    def inner(*args, **kwargs):\n",
    "        start = time.time()\n",
    "        result = fn(*args, **kwargs)\n",
    "        print(f\"Function call took {(time.time() - start) * 1000} ms.\")\n",
    "        return result\n",
    "    \n",
    "    return inner\n",
    "\n",
    "\n",
    "@time_it\n",
    "def do_something(count):\n",
    "    something = 1000\n",
    "    \n",
    "    for i in range(count):\n",
    "        something = something * 0.9999999\n",
    "        \n",
    "    return something"
   ]
  },
  {
   "cell_type": "markdown",
   "metadata": {
    "slideshow": {
     "slide_type": "subslide"
    }
   },
   "source": [
    "## Lambda funkce\n",
    "- anonymní funkce\n",
    "- jednoduché, jednořádkové\n",
    "- neobsahují příkazy (return, =, ...)\n",
    "- syntax: \n",
    "```python\n",
    "lambda argument_1, argument_2: pass\n",
    "```"
   ]
  },
  {
   "cell_type": "code",
   "execution_count": null,
   "metadata": {
    "slideshow": {
     "slide_type": "subslide"
    }
   },
   "outputs": [],
   "source": [
    "add = lambda x, y: x + y\n",
    "add(2, 3)  \n",
    "# 5\n",
    "\n",
    "\n",
    "f = filter(lambda x: x > 0, [10,-2, 24, -5])\n",
    "list(f)  \n",
    "# [10, 24]\n",
    "\n",
    "\n",
    "s = [('Anička', 23), ('Honza', 20), ('Matěj', 22)]\n",
    "sorted(s, key=lambda x: x[1])  \n",
    "# [('Honza', 20), ('Matěj', 22), ('Anička', 23)]\n"
   ]
  },
  {
   "cell_type": "markdown",
   "metadata": {
    "slideshow": {
     "slide_type": "slide"
    }
   },
   "source": [
    "## Speciální (Magic) metody\n",
    "- umožňuje měnit \"normální\" chování klasických pythonovských komponent:\n",
    "  - operátorů(+,*, ..., ==, >=, ..., =, ...), klíčových slov (del, class, for, ...), volání funkce, převádění typů apod.\n",
    "- téměř všechno v Pythonu ale jde předefinovat\n",
    "- velká moc a velká zodpovědnost\n",
    "- popsány v dokumentaci: https://docs.python.org/3/reference/datamodel.html#special-method-names"
   ]
  },
  {
   "cell_type": "markdown",
   "metadata": {
    "slideshow": {
     "slide_type": "subslide"
    }
   },
   "source": [
    "![function](img/magic.png)"
   ]
  },
  {
   "cell_type": "markdown",
   "metadata": {
    "slideshow": {
     "slide_type": "subslide"
    }
   },
   "source": [
    "- Metody pro předefinování aritmetických operátorů: \\_\\_add\\_\\_, \\_\\_sub\\_\\_, \\_\\_mul\\_\\_, \\_\\_div\\_\\_, \\_\\_floordiv\\_\\_, \\_\\_pow\\_\\_, \\_\\_matmul\\_\\_, \\_\\_lshift\\_\\_, \\_\\_rshift\\_\\_, \\_\\_or\\_\\_, \\_\\_xor\\_\\_ a varianty s r a i (\\_\\_radd\\_\\_, \\_\\_iadd\\_\\_, atd.); \\_\\_neg\\_\\_, \\_\\_pos\\_\\_, \\_\\_abs\\_\\_, \\_\\_invert\\_\\_.\n",
    "\n",
    "\n",
    "- Metody pro předefinování porovnávání: \\_\\_eq\\_\\_, \\_\\_ne\\_\\_, \\_\\_lt\\_\\_, \\_\\_gt\\_\\_, \\_\\_le\\_\\_, \\_\\_ge\\_\\_, \\_\\_hash\\_\\_.\n",
    "\n",
    "\n",
    "- Metoda pro zavolání objektu jako funkce: \\_\\_call\\_\\_.\n",
    "\n",
    "\n",
    "- Metody pro funkčnost sekvencí a kontejnerů: \\_\\_len\\_\\_, \\_\\_iter\\_\\_, \\_\\_next\\_\\_, \\_\\_reversed\\_\\_; \\_\\_contains\\_\\_ pro operátor in.\n",
    "\n",
    "\n",
    "- Metody pro „hranaté závorky“: \\_\\_getitem\\_\\_, \\_\\_setitem\\_\\_, \\_\\_delitem\\_\\_.\n",
    "\n",
    "\n",
    "- Převádění na řetězce: \\_\\_repr\\_\\_, \\_\\_str\\_\\_, \\_\\_format\\_\\_.\n",
    "\n",
    "\n",
    "- Převádění na bool (např. i v if): \\_\\_bool\\_\\_.\n",
    "\n",
    "\n",
    "- Vytváření a rušení objektů: \\_\\_new\\_\\_ (konstruktor – vytvoří objekt dané třídy), \\_\\_init\\_\\_ (inicializuje objekt dané třídy), \\_\\_del\\_\\_ (zavoláno před zrušením objektu).\n",
    "\n",
    "\n",
    "- Předefinování přístupu k atributům: \\_\\_getattr\\_\\_ (zavolá se, pokud se atribut nenajde), \\_\\_getattribute\\_\\_ (zavolá se pro každý přístup k atributu), \\_\\_setattr\\_\\_, \\_\\_delattr\\_\\_, \\_\\_dir\\_\\_.\n",
    "\n",
    "\n",
    "- Implementace context manageru (pro with): \\_\\_enter\\_\\_, \\_\\_exit\\_\\_.\n"
   ]
  },
  {
   "cell_type": "code",
   "execution_count": null,
   "metadata": {
    "slideshow": {
     "slide_type": "subslide"
    }
   },
   "outputs": [],
   "source": [
    "from functools import total_ordering\n",
    "\n",
    "@total_ordering\n",
    "class Wizard:\n",
    "\n",
    "    def __init__(self, name, attack, defence):\n",
    "        self.name = name\n",
    "        self.attack = attack\n",
    "        self.defence = defence\n",
    "\n",
    "    @property\n",
    "    def rank(self):\n",
    "        return self.attack + self.defence\n",
    "\n",
    "    def __str__(self):\n",
    "        return f\"I am mighty fighter called {self.name}!\"\n",
    "\n",
    "    def __call__(self):\n",
    "        print(\"Chaaarge!\")\n",
    "\n",
    "    def __eq__(self, other):\n",
    "        if not isinstance(other, self.__class__):\n",
    "            raise NotImplemented\n",
    "\n",
    "        damage_dealt = max(other.attack - self.defence, 0)\n",
    "        damage_received = max(self.attack - other.defence, 0)\n",
    "\n",
    "        return damage_dealt == damage_received\n",
    "\n",
    "    def __gt__(self, other):\n",
    "        if not isinstance(other, self.__class__):\n",
    "            raise NotImplemented\n",
    "\n",
    "        damage_dealt = max(other.attack - self.defence, 0)\n",
    "        damage_received = max(self.attack - other.defence, 0)\n",
    "\n",
    "        return damage_dealt > damage_received\n",
    "\n",
    "    def __add__(self, other):\n",
    "        return type(self)(f\"Baby of {self.name} and {other.name}\",\n",
    "                       max(self.attack, other.attack),\n",
    "                       max(self.defence, other.defence))"
   ]
  },
  {
   "cell_type": "markdown",
   "metadata": {
    "slideshow": {
     "slide_type": "subslide"
    }
   },
   "source": [
    "## Kontext manažery\n",
    "- třídy implementující metody \\_\\_enter\\_\\_ a \\_\\_exit\\_\\_\n",
    "- používají se v situacích, kdy je potřeba vykonat něco před začátkem a po ukončení akce:\n",
    "   - práce se soubory, řízení spojení s databází apod.\n",
    "- syntax pomocí klíčového slova with:\n",
    "```python\n",
    "with open(filename) as f:  # zde se zavolá __enter__ a výsledek se uloží do proměnné\n",
    "    result = f.read()\n",
    "                             # zde se zavolá __exit__\n",
    "print(result) \n",
    "```"
   ]
  },
  {
   "cell_type": "markdown",
   "metadata": {
    "slideshow": {
     "slide_type": "subslide"
    }
   },
   "source": [
    "## Iterátory a iterovatelné objekty\n",
    "- iterátory jsou třídy implementující metodu `__next__`, která vrací následující prvek nebo vyhazuje vyjímku `StopIteration`\n",
    "- iterovatelné objekty jsou třídy implementující metodu `__iter__`, která vrací iterátor\n",
    "    - seznamy, slovníky, ..."
   ]
  },
  {
   "cell_type": "code",
   "execution_count": null,
   "metadata": {
    "slideshow": {
     "slide_type": "subslide"
    }
   },
   "outputs": [],
   "source": [
    "it = iter([1, 2, 3])\n",
    "next(it)\n",
    "# 1\n",
    "next(it)\n",
    "# 2\n",
    "next(it)\n",
    "# 3\n",
    "next(it)\n",
    "# Traceback (most recent call last):\n",
    "#   ...\n",
    "# StopIteration"
   ]
  },
  {
   "cell_type": "markdown",
   "metadata": {
    "slideshow": {
     "slide_type": "slide"
    }
   },
   "source": [
    "## Generátory\n",
    "- speciální druh iterátoru\n",
    "- vhodný pro iterování obrovských kolekcí (velkých souborů), které se naráz nevejdou do paměti\n",
    "- umožňuje iterovat přes nekonečně dlouhé kolekce\n",
    "- definovány pomocí klíčového slova `yield` nahrazující klíčové slovo `return`\n",
    "\n"
   ]
  },
  {
   "cell_type": "code",
   "execution_count": null,
   "metadata": {
    "slideshow": {
     "slide_type": "subslide"
    }
   },
   "outputs": [],
   "source": [
    "def infinite_increase(number):\n",
    "    while True:\n",
    "        number += 1\n",
    "        yield number\n",
    "\n",
    "generator = infinite_increase(0)\n",
    "next(generator)\n",
    "# 1\n",
    "next(generator)\n",
    "# 2"
   ]
  },
  {
   "cell_type": "code",
   "execution_count": null,
   "metadata": {
    "scrolled": true,
    "slideshow": {
     "slide_type": "subslide"
    }
   },
   "outputs": [],
   "source": [
    "import contextlib\n",
    "\n",
    "@contextlib.contextmanager\n",
    "def ctx_manager():\n",
    "    print('Entering')\n",
    "    yield 123\n",
    "    print('Exiting')\n",
    "\n",
    "\n",
    "with ctx_manager() as obj:\n",
    "    print('Inside context, with', obj)\n",
    "    \n",
    "#########################################\n",
    "\n",
    "def read_files(filenames):\n",
    "    for filename in filenames:\n",
    "        with open(filename) as f:\n",
    "            yield from iter(f)"
   ]
  },
  {
   "cell_type": "markdown",
   "metadata": {
    "slideshow": {
     "slide_type": "subslide"
    }
   },
   "source": [
    "### Komprehenze\n",
    "- kompaktní zápis inicializace iterovatelných objektů a generátorů (jednoduché závorky)\n",
    "- syntax:\n",
    "    ```python\n",
    "    [výraz for prvek in iterovatelný_objekt if podmínka]\n",
    "    ```"
   ]
  },
  {
   "cell_type": "code",
   "execution_count": null,
   "metadata": {
    "slideshow": {
     "slide_type": "subslide"
    }
   },
   "outputs": [],
   "source": [
    "leap_years = [year for year in range(1900, 2020) if year % 4 == 0]\n",
    "\n",
    "\n",
    "matrix = [[x for x in range(10)] for _ in range(10)]\n",
    "\n",
    "\n",
    "object_generator = (get_object(id) for id in ids )"
   ]
  }
 ],
 "metadata": {
  "celltoolbar": "Slideshow",
  "kernelspec": {
   "display_name": "Python 3",
   "language": "python",
   "name": "python3"
  },
  "language_info": {
   "codemirror_mode": {
    "name": "ipython",
    "version": 3
   },
   "file_extension": ".py",
   "mimetype": "text/x-python",
   "name": "python",
   "nbconvert_exporter": "python",
   "pygments_lexer": "ipython3",
   "version": "3.6.9"
  },
  "rise": {
   "scroll": true
  }
 },
 "nbformat": 4,
 "nbformat_minor": 2
}
