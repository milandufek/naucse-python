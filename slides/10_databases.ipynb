{
 "cells": [
  {
   "cell_type": "markdown",
   "metadata": {
    "slideshow": {
     "slide_type": "slide"
    }
   },
   "source": [
    "## DATABÁZE"
   ]
  },
  {
   "cell_type": "markdown",
   "metadata": {
    "slideshow": {
     "slide_type": "subslide"
    }
   },
   "source": [
    "### Relační databáze"
   ]
  },
  {
   "cell_type": "markdown",
   "metadata": {
    "slideshow": {
     "slide_type": "fragment"
    }
   },
   "source": [
    "- databáze založená na relačním modelu"
   ]
  },
  {
   "cell_type": "markdown",
   "metadata": {
    "slideshow": {
     "slide_type": "subslide"
    }
   },
   "source": [
    "### Relační model"
   ]
  },
  {
   "cell_type": "markdown",
   "metadata": {
    "slideshow": {
     "slide_type": "fragment"
    }
   },
   "source": [
    "- Základem jsou tabulky- jako jeden list sešitu MS Excel (celý sešit by pak odpovídal databázi). \n",
    "- Jednotlivé řádky tabulky jsou záznamy. \n",
    "- Ty se skládají z několika atributů (sloupců). \n",
    "- Řádky a sloupce odpovídají Excelovým řádkům a sloupcům."
   ]
  },
  {
   "cell_type": "markdown",
   "metadata": {
    "slideshow": {
     "slide_type": "subslide"
    }
   },
   "source": [
    "### CRUD"
   ]
  },
  {
   "cell_type": "markdown",
   "metadata": {
    "slideshow": {
     "slide_type": "fragment"
    }
   },
   "source": [
    "Nad daty provádíme čtyři druhy operací:\n",
    "- vytváření\n",
    "- čtení\n",
    "- úpravu \n",
    "- mazání\n",
    "\n",
    "Tyto operace se sdružují do zkratky `CRUD` (Create, Read, Update, Delete)."
   ]
  },
  {
   "cell_type": "markdown",
   "metadata": {
    "slideshow": {
     "slide_type": "subslide"
    }
   },
   "source": [
    "### SQL"
   ]
  },
  {
   "cell_type": "markdown",
   "metadata": {
    "slideshow": {
     "slide_type": "fragment"
    }
   },
   "source": [
    "- Structured Querying Language \n",
    "- Strukturovaný dotazovací jazyk, který nám umožňuje komunikovat s databází. \n",
    "- Příkazy mohou být do databáze posílány z webové aplikace (Python, Javascript, ...), z terminálu, nebo třeba z aplikace přímo určené pro správu databáze.\n",
    "- Příkazy jazyka psát VELKÝMI PÍSMENY, oddělujeme středníkem ;"
   ]
  },
  {
   "cell_type": "markdown",
   "metadata": {
    "slideshow": {
     "slide_type": "subslide"
    }
   },
   "source": [
    "`w3schools try sql editor`"
   ]
  },
  {
   "cell_type": "markdown",
   "metadata": {
    "slideshow": {
     "slide_type": "subslide"
    }
   },
   "source": [
    "#### Vytvoření tabulky"
   ]
  },
  {
   "cell_type": "code",
   "execution_count": null,
   "metadata": {
    "slideshow": {
     "slide_type": "fragment"
    }
   },
   "outputs": [],
   "source": [
    "/* Vytvoří tabulku ROBOT se sloupci ID, NAME a TYPE.\n",
    "   ID je celé číslo, NAME a TYPE jsou řetězce.\n",
    "*/\n",
    "\n",
    "CREATE TABLE ROBOT (\n",
    "    ID      INT     PRIMARY KEY,\n",
    "    NAME    TEXT,\n",
    "    TYPE    TEXT\n",
    ")"
   ]
  },
  {
   "cell_type": "markdown",
   "metadata": {
    "slideshow": {
     "slide_type": "subslide"
    }
   },
   "source": [
    "#### INSERT"
   ]
  },
  {
   "cell_type": "code",
   "execution_count": null,
   "metadata": {
    "slideshow": {
     "slide_type": "fragment"
    }
   },
   "outputs": [],
   "source": [
    "-- Vloží do tabulky ROBOT nového Robota s ID 1, jménem Jim a typem AGGRESIVE\n",
    "INSERT INTO ROBOT (ID, NAME, TYPE) VALUES (1, \"Jim\", \"AGGRESSIVE\");\n",
    "\n",
    "-- Vloží do tabulky ROBOT další dva Roboty\n",
    "INSERT INTO ROBOT (ID, NAME, TYPE) VALUES (2, \"John\", \"DEFENSIVE\"),(3, \"Jack\", \"DEFENSIVE\");"
   ]
  },
  {
   "cell_type": "markdown",
   "metadata": {
    "slideshow": {
     "slide_type": "subslide"
    }
   },
   "source": [
    "#### SELECT"
   ]
  },
  {
   "cell_type": "code",
   "execution_count": null,
   "metadata": {
    "slideshow": {
     "slide_type": "fragment"
    }
   },
   "outputs": [],
   "source": [
    "-- vypíše hodnoty všech sloupců pro všechny roboty\n",
    "SELECT * FROM ROBOT;\n",
    "\n",
    "-- vypíše jen jména všech robotů\n",
    "SELECT NAME FROM ROBOT;"
   ]
  },
  {
   "cell_type": "markdown",
   "metadata": {
    "slideshow": {
     "slide_type": "subslide"
    }
   },
   "source": [
    "#### UPDATE"
   ]
  },
  {
   "cell_type": "code",
   "execution_count": null,
   "metadata": {
    "slideshow": {
     "slide_type": "fragment"
    }
   },
   "outputs": [],
   "source": [
    "-- nastaví všem robotům typ na AGGRESSIVE\n",
    "UPDATE ROBOT SET TYPE = \"AGGRESSIVE\";"
   ]
  },
  {
   "cell_type": "markdown",
   "metadata": {
    "slideshow": {
     "slide_type": "subslide"
    }
   },
   "source": [
    "#### DELETE"
   ]
  },
  {
   "cell_type": "code",
   "execution_count": null,
   "metadata": {
    "slideshow": {
     "slide_type": "fragment"
    }
   },
   "outputs": [],
   "source": [
    "-- smaže všechny roboty\n",
    "DELETE FROM ROBOT;"
   ]
  },
  {
   "cell_type": "markdown",
   "metadata": {
    "slideshow": {
     "slide_type": "subslide"
    }
   },
   "source": [
    "#### WHERE"
   ]
  },
  {
   "cell_type": "code",
   "execution_count": null,
   "metadata": {
    "slideshow": {
     "slide_type": "fragment"
    }
   },
   "outputs": [],
   "source": [
    "-- vypíše všechny řádky o robotech, které mají typ AGGRESSIVE\n",
    "SELECT * FROM ROBOT WHERE TYPE = \"AGGRESSIVE\";\n",
    "\n",
    "-- přejmenuje roboty, jejichž jména začínají na J, na Jimmy\n",
    "UPDATE ROBOT SET NAME = \"Jimmy\" WHERE NAME LIKE \"J%\";\n",
    "\n",
    "-- smaže robota s ID větším než 1\n",
    "DELETE FROM ROBOT WHERE ID > 1;"
   ]
  },
  {
   "cell_type": "markdown",
   "metadata": {
    "slideshow": {
     "slide_type": "subslide"
    }
   },
   "source": [
    "#### Primární klíče - PRIMARY KEY"
   ]
  },
  {
   "cell_type": "markdown",
   "metadata": {
    "slideshow": {
     "slide_type": "fragment"
    }
   },
   "source": [
    "- Každá tabulka by měla mít sloupec, který jednoznačně identifikuje jednotlivé řádky. \n",
    "- Musí obsahovat unikátní hodnoty. \n",
    "- Uměle vytvořené číslo (nejčastěji nazývané ID), nebo unikátní identifikátor z reálného světa. \n",
    "- Je lepší používat uměle vytvořené primární klíče."
   ]
  },
  {
   "cell_type": "markdown",
   "metadata": {
    "slideshow": {
     "slide_type": "subslide"
    }
   },
   "source": [
    "#### Cizí klíče - FOREIGN KEY"
   ]
  },
  {
   "cell_type": "markdown",
   "metadata": {
    "slideshow": {
     "slide_type": "fragment"
    }
   },
   "source": [
    "- Vazba mezi tabulkami. \n",
    "- V dceřiné tabulce je sloupec představující cizí klíč, jehož hodnoty se odkazují na primární klíč jiné tabulky.\n"
   ]
  },
  {
   "cell_type": "markdown",
   "metadata": {
    "slideshow": {
     "slide_type": "subslide"
    }
   },
   "source": [
    "![function](img/fk.png)"
   ]
  },
  {
   "cell_type": "markdown",
   "metadata": {
    "slideshow": {
     "slide_type": "subslide"
    }
   },
   "source": [
    "#### Spojování tabulek - JOIN"
   ]
  },
  {
   "cell_type": "markdown",
   "metadata": {
    "slideshow": {
     "slide_type": "fragment"
    }
   },
   "source": [
    "- Jeden dotaz pro čtení dat z více tabulek. \n",
    "- JOIN je součástí příkazu SELECT.\n",
    "- V základní verzi vezme JOIN záznamy z jedné tabulky a připojí k nim odpovídající záznamy z druhé tabulky. \n",
    "- Na takto nově vzniklý řádek je možné udělat JOIN s další tabulkou."
   ]
  },
  {
   "cell_type": "code",
   "execution_count": null,
   "metadata": {
    "slideshow": {
     "slide_type": "subslide"
    }
   },
   "outputs": [],
   "source": [
    "-- vypíše jména a příjmení zákazníků, kteří udělali objednávku za více než 500 Kč\n",
    "\n",
    "SELECT ZAKAZNIK.JMENO, ZAKAZNIK.PRIJMENI\n",
    "FROM ZAKAZNIK\n",
    "JOIN OBJEDNAVKA ON OBJEDNAVKA.ZAKAZNIK_ID = ZAKAZNIK.ID\n",
    "WHERE OBJEDNAVKA.CENA > 500;"
   ]
  },
  {
   "cell_type": "markdown",
   "metadata": {
    "slideshow": {
     "slide_type": "subslide"
    }
   },
   "source": [
    "#### Transakce"
   ]
  },
  {
   "cell_type": "markdown",
   "metadata": {
    "slideshow": {
     "slide_type": "fragment"
    }
   },
   "source": [
    "- Skupiny příkazů (SELECT, INSERT, ...), která se buď provede celá, nebo vůbec. \n",
    "- Pokud některý příkaz vyvolá chybu, tak se databáze vrátí do původního stavu.\n",
    "\n",
    "- Důležité je ukončit, a to buď příkazem `COMMIT` nebo `ROLLBACK`. \n",
    "- `COMMIT` uloží změny trvale do databáze.\n",
    "- `ROLLBACK` vrátí databázi do původního stavu."
   ]
  },
  {
   "cell_type": "markdown",
   "metadata": {
    "slideshow": {
     "slide_type": "subslide"
    }
   },
   "source": [
    "### SQLite"
   ]
  },
  {
   "cell_type": "markdown",
   "metadata": {
    "slideshow": {
     "slide_type": "fragment"
    }
   },
   "source": [
    "- databázový systém\n",
    "- jednoduchý, celá databáze v jednom souboru"
   ]
  },
  {
   "cell_type": "code",
   "execution_count": 3,
   "metadata": {
    "slideshow": {
     "slide_type": "subslide"
    }
   },
   "outputs": [],
   "source": [
    "import sqlite3\n",
    "\n",
    "# Připojíme se k databázi (v souboru)\n",
    "connection = sqlite3.connect('pyladies_example_1.db')\n",
    "\n",
    "# Získáme instanci třídy `Cursor`, pomocí které bude do databáze posílat příkazy\n",
    "cursor = connection.cursor()"
   ]
  },
  {
   "cell_type": "code",
   "execution_count": 4,
   "metadata": {
    "slideshow": {
     "slide_type": "subslide"
    }
   },
   "outputs": [
    {
     "data": {
      "text/plain": [
       "<sqlite3.Cursor at 0x7f625959b3b0>"
      ]
     },
     "execution_count": 4,
     "metadata": {},
     "output_type": "execute_result"
    }
   ],
   "source": [
    "# Pokud tabulka už existuje, tak ji odstraníme,\n",
    "# abychom mohli skript spouštět opakovaně\n",
    "cursor.execute(\"\"\"DROP TABLE IF EXISTS ROBOT\"\"\")\n",
    "\n",
    "# Vytvoříme jednoduchou tabulku\n",
    "cursor.execute(\"\"\"CREATE TABLE ROBOT (NAME TEXT, TYPE TEXT)\"\"\")"
   ]
  },
  {
   "cell_type": "code",
   "execution_count": 5,
   "metadata": {
    "slideshow": {
     "slide_type": "subslide"
    }
   },
   "outputs": [
    {
     "data": {
      "text/plain": [
       "<sqlite3.Cursor at 0x7f625959b3b0>"
      ]
     },
     "execution_count": 5,
     "metadata": {},
     "output_type": "execute_result"
    }
   ],
   "source": [
    "# Vložíme do tabulky data\n",
    "cursor.execute(\"\"\"\n",
    "    INSERT INTO ROBOT (NAME, TYPE)\n",
    "    VALUES (\"JIM\", \"DEFENSIVE\"), (\"JACK\", \"OFFENSIVE\")\n",
    "\"\"\")"
   ]
  },
  {
   "cell_type": "code",
   "execution_count": 6,
   "metadata": {
    "slideshow": {
     "slide_type": "subslide"
    }
   },
   "outputs": [
    {
     "name": "stdout",
     "output_type": "stream",
     "text": [
      "('JIM', 'DEFENSIVE')\n",
      "('JACK', 'OFFENSIVE')\n"
     ]
    }
   ],
   "source": [
    "# Dotážeme se na všechny roboty, výsledky vypíšeme\n",
    "robots = cursor.execute(\"SELECT * FROM ROBOT\")\n",
    "for robot in robots:\n",
    "    print(robot)\n",
    "\n",
    "# Uložíme změny a uzavřeme spojení\n",
    "connection.commit()\n",
    "connection.close()"
   ]
  },
  {
   "cell_type": "code",
   "execution_count": 8,
   "metadata": {
    "slideshow": {
     "slide_type": "subslide"
    }
   },
   "outputs": [],
   "source": [
    "# Složitejší příklad, který pracuje s primárními a cizími klíči\n",
    "# a se spojováním tabulek"
   ]
  },
  {
   "cell_type": "code",
   "execution_count": 9,
   "metadata": {
    "slideshow": {
     "slide_type": "subslide"
    }
   },
   "outputs": [],
   "source": [
    "import sqlite3\n",
    "\n",
    "# Připojíme se k databázi (v souboru)\n",
    "connection = sqlite3.connect('pyladies_example_2.db')\n",
    "\n",
    "# Získáme instanci třídy `Cursor`, pomocí které bude do databáze posílat příkazy\n",
    "cursor = connection.cursor()"
   ]
  },
  {
   "cell_type": "code",
   "execution_count": 11,
   "metadata": {
    "slideshow": {
     "slide_type": "subslide"
    }
   },
   "outputs": [
    {
     "data": {
      "text/plain": [
       "<sqlite3.Cursor at 0x7f625959bf80>"
      ]
     },
     "execution_count": 11,
     "metadata": {},
     "output_type": "execute_result"
    }
   ],
   "source": [
    "# Pokud tabulky už existují, tak ji odstraníme,\n",
    "# abychom mohli skript spouštět opakovaně\n",
    "cursor.execute(\"\"\"DROP TABLE IF EXISTS ROBOT\"\"\")\n",
    "cursor.execute(\"\"\"DROP TABLE IF EXISTS BATTLE\"\"\")\n",
    "\n",
    "# Vytvoříme tabulku s roboty a tabulky s výsledky bitev\n",
    "cursor.execute(\"\"\"\n",
    "-- u jednotlivých roborů si ukládáme ID, jméno a typ\n",
    "CREATE TABLE ROBOT (\n",
    "    ROBOT_ID INT PRIMARY KEY,\n",
    "    NAME TEXT,\n",
    "    TYPE TEXT)\n",
    "\"\"\")\n",
    "cursor.execute(\"\"\"\n",
    "-- bitva se skládá z ID bitvy, ID vítěze a poraženého (odpovídají ID v tabulce ROBOT)\n",
    "-- a z bodů pro vítěze a poraženého\n",
    "CREATE TABLE BATTLE (\n",
    "    BATTLE_ID INT PRIMARY KEY,\n",
    "    WINNER_ID INT,\n",
    "    LOSER_ID INT,\n",
    "    WINNER_POINTS INT,\n",
    "    LOSER_POINTS INT,\n",
    "    FOREIGN KEY(WINNER_ID) REFERENCES ROBOT(ROBOT_ID),\n",
    "    FOREIGN KEY(LOSER_ID) REFERENCES ROBOT(ROBOT_ID)\n",
    "    )\n",
    "\"\"\")"
   ]
  },
  {
   "cell_type": "code",
   "execution_count": 12,
   "metadata": {
    "slideshow": {
     "slide_type": "subslide"
    }
   },
   "outputs": [
    {
     "data": {
      "text/plain": [
       "<sqlite3.Cursor at 0x7f625959bf80>"
      ]
     },
     "execution_count": 12,
     "metadata": {},
     "output_type": "execute_result"
    }
   ],
   "source": [
    "# Vložíme do tabulek data\n",
    "cursor.execute(\"\"\"\n",
    "    INSERT INTO ROBOT (ROBOT_ID, NAME, TYPE) VALUES\n",
    "    (1, \"JIM\", \"DEFENSIVE\"), (2, \"JACK\", \"OFFENSIVE\"), (3, \"JIMMY\", \"OFFESIVE\")\n",
    "\"\"\")\n",
    "\n",
    "cursor.execute(\"\"\"\n",
    "    INSERT INTO BATTLE (BATTLE_ID, WINNER_ID, LOSER_ID, WINNER_POINTS, LOSER_POINTS) VALUES\n",
    "    (1, 1, 2, 10, 8), -- robot 1 porazil robota 2 se skóre 10:8 (v bitvě 1)\n",
    "    (2, 2, 1, 6, 9),\n",
    "    (3, 2, 3, 10, 9),\n",
    "    (4, 1, 3, 5, 4),\n",
    "    (5, 3, 2, 2, 0),\n",
    "    (6, 1, 2, 9, 6)\n",
    "\"\"\")"
   ]
  },
  {
   "cell_type": "code",
   "execution_count": 13,
   "metadata": {
    "slideshow": {
     "slide_type": "subslide"
    }
   },
   "outputs": [
    {
     "name": "stdout",
     "output_type": "stream",
     "text": [
      "(10, 8)\n",
      "(5, 4)\n",
      "(9, 6)\n"
     ]
    }
   ],
   "source": [
    "# Dotážeme se na výsledky bitev, které vyhrál robot se jménem \"JIM\"\n",
    "scores = cursor.execute(\"\"\"\n",
    "    SELECT BATTLE.WINNER_POINTS, BATTLE.LOSER_POINTS\n",
    "    FROM BATTLE\n",
    "    JOIN ROBOT ON ROBOT.ROBOT_ID = BATTLE.WINNER_ID\n",
    "    WHERE ROBOT.NAME = \"JIM\"\n",
    "\"\"\")\n",
    "\n",
    "for score in scores:\n",
    "    print(score)\n",
    "\n",
    "# Uložíme změny a uzavřeme spojení\n",
    "connection.commit()\n",
    "connection.close()"
   ]
  },
  {
   "cell_type": "markdown",
   "metadata": {
    "slideshow": {
     "slide_type": "subslide"
    }
   },
   "source": [
    "### ORM"
   ]
  },
  {
   "cell_type": "markdown",
   "metadata": {
    "slideshow": {
     "slide_type": "fragment"
    }
   },
   "source": [
    "- V Pythonu logiku sdružujeme do tříd. \n",
    "- V databázích se data sdružují do tabulek. \n",
    "- O propojení těchto konceptů se stará ORM - `Object-relational Mapper`. \n",
    "- Pomocí ORM Frameworku (v Pythonu např. SQLAlchemy) vytváříme Python třídy, pro které existují odpovídající tabulky v databázi."
   ]
  }
 ],
 "metadata": {
  "celltoolbar": "Slideshow",
  "kernelspec": {
   "display_name": "Python 3",
   "language": "python",
   "name": "python3"
  },
  "language_info": {
   "codemirror_mode": {
    "name": "ipython",
    "version": 3
   },
   "file_extension": ".py",
   "mimetype": "text/x-python",
   "name": "python",
   "nbconvert_exporter": "python",
   "pygments_lexer": "ipython3",
   "version": "3.8.2"
  },
  "rise": {
   "scroll": true
  }
 },
 "nbformat": 4,
 "nbformat_minor": 2
}
