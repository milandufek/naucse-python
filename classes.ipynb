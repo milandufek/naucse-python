{
 "cells": [
  {
   "cell_type": "markdown",
   "metadata": {
    "slideshow": {
     "slide_type": "slide"
    }
   },
   "source": [
    "## Třídy a objekty"
   ]
  },
  {
   "cell_type": "markdown",
   "metadata": {
    "slideshow": {
     "slide_type": "subslide"
    }
   },
   "source": [
    "## Co je to objekt?"
   ]
  },
  {
   "cell_type": "markdown",
   "metadata": {
    "slideshow": {
     "slide_type": "fragment"
    }
   },
   "source": [
    "Každá hodnota (tj. něco, co můžeš uložit do proměnné, vrátit z funkce nebo třeba seznamu) je objekt."
   ]
  },
  {
   "cell_type": "markdown",
   "metadata": {
    "slideshow": {
     "slide_type": "subslide"
    }
   },
   "source": [
    "Základní vlastnost objektů je to, že obsahují:\n",
    "-  data (informace)\n",
    "- chování – instrukce nebo metody, které s těmito daty pracují. \n"
   ]
  },
  {
   "cell_type": "code",
   "execution_count": 4,
   "metadata": {
    "slideshow": {
     "slide_type": "subslide"
    }
   },
   "outputs": [
    {
     "name": "stdout",
     "output_type": "stream",
     "text": [
      "dog\n",
      "DOG\n",
      "1\n"
     ]
    }
   ],
   "source": [
    "word = 'dog'\n",
    "print(word)\n",
    "print(word.upper())\n",
    "print(word.count('d'))"
   ]
  },
  {
   "cell_type": "code",
   "execution_count": 6,
   "metadata": {
    "slideshow": {
     "slide_type": "fragment"
    }
   },
   "outputs": [],
   "source": [
    "def count(input_string, char):\n",
    "    number = 0\n",
    "    for c in input_string:\n",
    "        if c == char:\n",
    "            number = number + 1\n",
    "    return number"
   ]
  },
  {
   "cell_type": "code",
   "execution_count": 9,
   "metadata": {
    "slideshow": {
     "slide_type": "subslide"
    }
   },
   "outputs": [
    {
     "name": "stdout",
     "output_type": "stream",
     "text": [
      "<class 'int'>\n",
      "<class 'bool'>\n",
      "<class 'str'>\n"
     ]
    }
   ],
   "source": [
    "print(type(0))\n",
    "print(type(True))\n",
    "print(type(\"abc\"))\n"
   ]
  },
  {
   "cell_type": "code",
   "execution_count": 1,
   "metadata": {
    "slideshow": {
     "slide_type": "subslide"
    }
   },
   "outputs": [
    {
     "name": "stdout",
     "output_type": "stream",
     "text": [
      "8\n",
      "[1, 2, 3]\n"
     ]
    }
   ],
   "source": [
    "class_of_strings = type(\"abc\")\n",
    "print(class_of_strings(8))\n",
    "#'8'\n",
    "print(class_of_strings([1, 2, 3]))\n",
    "#'[1, 2, 3]'"
   ]
  },
  {
   "cell_type": "code",
   "execution_count": 13,
   "metadata": {
    "slideshow": {
     "slide_type": "subslide"
    }
   },
   "outputs": [
    {
     "name": "stdout",
     "output_type": "stream",
     "text": [
      "<class 'str'>\n",
      "<class 'str'>\n",
      "True\n"
     ]
    }
   ],
   "source": [
    "print(str)\n",
    "print(type('abcdefgh'))\n",
    "print(type('abcdefgh') == str)"
   ]
  },
  {
   "cell_type": "markdown",
   "metadata": {
    "slideshow": {
     "slide_type": "slide"
    }
   },
   "source": [
    "## Vlastní třídy"
   ]
  },
  {
   "cell_type": "code",
   "execution_count": 3,
   "metadata": {
    "slideshow": {
     "slide_type": "subslide"
    }
   },
   "outputs": [],
   "source": [
    "class Kitten:\n",
    "    def meow(self):\n",
    "        print(\"Meow!\")"
   ]
  },
  {
   "cell_type": "code",
   "execution_count": 4,
   "metadata": {
    "slideshow": {
     "slide_type": "fragment"
    }
   },
   "outputs": [
    {
     "name": "stdout",
     "output_type": "stream",
     "text": [
      "Meow!\n"
     ]
    }
   ],
   "source": [
    "# Vytvoření konkrétního objektu\n",
    "kitten = Kitten()\n",
    "\n",
    "# Volání metody\n",
    "kitten.meow()"
   ]
  },
  {
   "cell_type": "markdown",
   "metadata": {
    "slideshow": {
     "slide_type": "subslide"
    }
   },
   "source": [
    "## Atributy"
   ]
  },
  {
   "cell_type": "code",
   "execution_count": 5,
   "metadata": {
    "slideshow": {
     "slide_type": "subslide"
    }
   },
   "outputs": [
    {
     "name": "stdout",
     "output_type": "stream",
     "text": [
      "Mourek\n",
      "Micka\n"
     ]
    }
   ],
   "source": [
    "mourek = Kitten()\n",
    "mourek.name = 'Mourek'\n",
    "\n",
    "micka = Kitten()\n",
    "micka.name = 'Micka'\n",
    "\n",
    "print(mourek.name)\n",
    "print(micka.name)"
   ]
  },
  {
   "cell_type": "code",
   "execution_count": 6,
   "metadata": {
    "slideshow": {
     "slide_type": "subslide"
    }
   },
   "outputs": [
    {
     "ename": "TypeError",
     "evalue": "'int' object is not callable",
     "output_type": "error",
     "traceback": [
      "\u001b[0;31m---------------------------------------------------------------------------\u001b[0m",
      "\u001b[0;31mTypeError\u001b[0m                                 Traceback (most recent call last)",
      "\u001b[0;32m<ipython-input-6-3f727760c5de>\u001b[0m in \u001b[0;36m<module>\u001b[0;34m\u001b[0m\n\u001b[1;32m      1\u001b[0m \u001b[0mmicka\u001b[0m \u001b[0;34m=\u001b[0m \u001b[0mKitten\u001b[0m\u001b[0;34m(\u001b[0m\u001b[0;34m)\u001b[0m\u001b[0;34m\u001b[0m\u001b[0;34m\u001b[0m\u001b[0m\n\u001b[1;32m      2\u001b[0m \u001b[0mmicka\u001b[0m\u001b[0;34m.\u001b[0m\u001b[0mmeow\u001b[0m \u001b[0;34m=\u001b[0m \u001b[0;36m12345\u001b[0m\u001b[0;34m\u001b[0m\u001b[0;34m\u001b[0m\u001b[0m\n\u001b[0;32m----> 3\u001b[0;31m \u001b[0mmicka\u001b[0m\u001b[0;34m.\u001b[0m\u001b[0mmeow\u001b[0m\u001b[0;34m(\u001b[0m\u001b[0;34m)\u001b[0m\u001b[0;34m\u001b[0m\u001b[0;34m\u001b[0m\u001b[0m\n\u001b[0m",
      "\u001b[0;31mTypeError\u001b[0m: 'int' object is not callable"
     ]
    }
   ],
   "source": [
    "micka = Kitten()\n",
    "micka.meow = 12345\n",
    "micka.meow()"
   ]
  },
  {
   "cell_type": "markdown",
   "metadata": {
    "slideshow": {
     "slide_type": "slide"
    }
   },
   "source": [
    "## Parametr `self`"
   ]
  },
  {
   "cell_type": "markdown",
   "metadata": {
    "scrolled": true,
    "slideshow": {
     "slide_type": "fragment"
    }
   },
   "source": [
    "Každá metoda má přístup ke konkrétnímu objektu, na kterém pracuje, přes argument `self`. "
   ]
  },
  {
   "cell_type": "code",
   "execution_count": 1,
   "metadata": {
    "slideshow": {
     "slide_type": "fragment"
    }
   },
   "outputs": [
    {
     "name": "stdout",
     "output_type": "stream",
     "text": [
      "Mourek: Meow!\n",
      "Micka: Meow!\n"
     ]
    }
   ],
   "source": [
    "class Kitten:\n",
    "    def meow(self):\n",
    "        print(f'{self.name}: Meow!')\n",
    "\n",
    "mourek = Kitten()\n",
    "mourek.name = 'Mourek'\n",
    "\n",
    "micka = Kitten()\n",
    "micka.name = 'Micka'\n",
    "\n",
    "mourek.meow()\n",
    "micka.meow()"
   ]
  },
  {
   "cell_type": "code",
   "execution_count": 2,
   "metadata": {
    "slideshow": {
     "slide_type": "subslide"
    }
   },
   "outputs": [
    {
     "name": "stdout",
     "output_type": "stream",
     "text": [
      "Mourek: Meow meow! I like fish!\n"
     ]
    }
   ],
   "source": [
    "class Kitten:\n",
    "    def eat(self, food):\n",
    "        print(f'{self.name}: Meow meow! I like {food}!')\n",
    "\n",
    "mourek = Kitten()\n",
    "mourek.name = 'Mourek'\n",
    "mourek.eat('fish')"
   ]
  },
  {
   "cell_type": "markdown",
   "metadata": {
    "slideshow": {
     "slide_type": "slide"
    }
   },
   "source": [
    "## Metoda `__init__`"
   ]
  },
  {
   "cell_type": "code",
   "execution_count": 4,
   "metadata": {
    "slideshow": {
     "slide_type": "subslide"
    }
   },
   "outputs": [
    {
     "ename": "AttributeError",
     "evalue": "'Kitten' object has no attribute 'name'",
     "output_type": "error",
     "traceback": [
      "\u001b[0;31m---------------------------------------------------------------------------\u001b[0m",
      "\u001b[0;31mAttributeError\u001b[0m                            Traceback (most recent call last)",
      "Cell \u001b[0;32mIn [4], line 7\u001b[0m\n\u001b[1;32m      3\u001b[0m         \u001b[39mprint\u001b[39m(\u001b[39mf\u001b[39m\u001b[39m'\u001b[39m\u001b[39m{\u001b[39;00m\u001b[39mself\u001b[39m\u001b[39m.\u001b[39mname\u001b[39m}\u001b[39;00m\u001b[39m: Meow!\u001b[39m\u001b[39m'\u001b[39m)\n\u001b[1;32m      5\u001b[0m mourek \u001b[39m=\u001b[39m Kitten()\n\u001b[0;32m----> 7\u001b[0m mourek\u001b[39m.\u001b[39;49mmeow()\n",
      "Cell \u001b[0;32mIn [4], line 3\u001b[0m, in \u001b[0;36mKitten.meow\u001b[0;34m(self)\u001b[0m\n\u001b[1;32m      2\u001b[0m \u001b[39mdef\u001b[39;00m \u001b[39mmeow\u001b[39m(\u001b[39mself\u001b[39m):\n\u001b[0;32m----> 3\u001b[0m     \u001b[39mprint\u001b[39m(\u001b[39mf\u001b[39m\u001b[39m'\u001b[39m\u001b[39m{\u001b[39;00m\u001b[39mself\u001b[39m\u001b[39m.\u001b[39mname\u001b[39m}\u001b[39;00m\u001b[39m: Meow!\u001b[39m\u001b[39m'\u001b[39m)\n",
      "\u001b[0;31mAttributeError\u001b[0m: 'Kitten' object has no attribute 'name'"
     ]
    }
   ],
   "source": [
    "class Kitten:\n",
    "    def meow(self):\n",
    "        print(f'{self.name}: Meow!')\n",
    "\n",
    "mourek = Kitten()\n",
    "\n",
    "mourek.meow()"
   ]
  },
  {
   "cell_type": "code",
   "execution_count": 5,
   "metadata": {
    "slideshow": {
     "slide_type": "subslide"
    }
   },
   "outputs": [
    {
     "name": "stdout",
     "output_type": "stream",
     "text": [
      "Mourek: Meow!\n"
     ]
    }
   ],
   "source": [
    "class Kitten:\n",
    "    def __init__(self, name):\n",
    "        self.name = name\n",
    "\n",
    "    def meow(self):\n",
    "        print(f'{self.name}: Meow!')\n",
    "\n",
    "    def eat(self, food):\n",
    "        print(f'{self.name}: Meow meow! I like {food}!')\n",
    "\n",
    "mourek = Kitten('Mourek')\n",
    "mourek.meow()"
   ]
  },
  {
   "cell_type": "code",
   "execution_count": 6,
   "metadata": {
    "slideshow": {
     "slide_type": "subslide"
    }
   },
   "outputs": [
    {
     "name": "stdout",
     "output_type": "stream",
     "text": [
      "<Kitten named Mourek>\n"
     ]
    }
   ],
   "source": [
    "# metoda __str__\n",
    "\n",
    "class Kitten:\n",
    "    def __init__(self, name):\n",
    "        self.name = name\n",
    "\n",
    "    def __str__(self):\n",
    "        return f'<Kitten named {self.name}>'\n",
    "\n",
    "    def meow(self):\n",
    "        print(f'{self.name}: Meow!')\n",
    "\n",
    "    def eat(self, food):\n",
    "        print(f'{self.name}: Meow meow! I like {food}!')\n",
    "\n",
    "mourek = Kitten('Mourek')\n",
    "print(mourek)"
   ]
  },
  {
   "cell_type": "markdown",
   "metadata": {
    "slideshow": {
     "slide_type": "subslide"
    }
   },
   "source": [
    "### Úkol: Kočka\n",
    "\n",
    "Teď, když už umíš dělat koťátka, zkus vytvořit třídu pro kočku.\n",
    "\n",
    "- Kočka umí mňoukat metodou `meow`.\n",
    "- Kočka má na začátku (při vytvoření) 9 životů (nemůže mít nikdy víc než 9 nebo míň než 0!).\n",
    "- Kočka umí říct, jestli je živá (nemá 0 životů), metodou `is_alive`.\n",
    "- Kočka může ztratit život metodou `lose_life`.\n",
    "- Kočku můžeš nakrmit metodou `eat`, která bere 1 argument - nějaké konkrétní jídlo (řetězec). Pokud je toto jídlo `fish`, kočce se obnoví jeden život (pokud teda už není mrtvá, nebo nemá maximální počet životů)."
   ]
  }
 ],
 "metadata": {
  "celltoolbar": "Slideshow",
  "kernelspec": {
   "display_name": "Python 3.10.7 64-bit",
   "language": "python",
   "name": "python3"
  },
  "language_info": {
   "codemirror_mode": {
    "name": "ipython",
    "version": 3
   },
   "file_extension": ".py",
   "mimetype": "text/x-python",
   "name": "python",
   "nbconvert_exporter": "python",
   "pygments_lexer": "ipython3",
   "version": "3.10.7"
  },
  "rise": {
   "scroll": true
  },
  "vscode": {
   "interpreter": {
    "hash": "e7370f93d1d0cde622a1f8e1c04877d8463912d04d973331ad4851f04de6915a"
   }
  }
 },
 "nbformat": 4,
 "nbformat_minor": 2
}
